{
 "cells": [
  {
   "cell_type": "code",
   "execution_count": 1,
   "metadata": {},
   "outputs": [
    {
     "data": {
      "text/html": [
       "<style>.container { width:100% !important; }</style>"
      ],
      "text/plain": [
       "<IPython.core.display.HTML object>"
      ]
     },
     "metadata": {},
     "output_type": "display_data"
    }
   ],
   "source": [
    "%load_ext autoreload\n",
    "%autoreload 2\n",
    "\n",
    "from IPython.core.display import display, HTML\n",
    "display(HTML(\"<style>.container { width:100% !important; }</style>\"))"
   ]
  },
  {
   "cell_type": "code",
   "execution_count": 4,
   "metadata": {},
   "outputs": [],
   "source": [
    "import os\n",
    "import pandas as pd\n",
    "import numpy as np\n",
    "import random\n",
    "import torch\n",
    "import transformers\n",
    "import matplotlib.pyplot as plt\n",
    "import seaborn as sns"
   ]
  },
  {
   "cell_type": "markdown",
   "metadata": {},
   "source": [
    "load all predictions"
   ]
  },
  {
   "cell_type": "code",
   "execution_count": 7,
   "metadata": {},
   "outputs": [
    {
     "data": {
      "text/html": [
       "<div>\n",
       "<style scoped>\n",
       "    .dataframe tbody tr th:only-of-type {\n",
       "        vertical-align: middle;\n",
       "    }\n",
       "\n",
       "    .dataframe tbody tr th {\n",
       "        vertical-align: top;\n",
       "    }\n",
       "\n",
       "    .dataframe thead th {\n",
       "        text-align: right;\n",
       "    }\n",
       "</style>\n",
       "<table border=\"1\" class=\"dataframe\">\n",
       "  <thead>\n",
       "    <tr style=\"text-align: right;\">\n",
       "      <th></th>\n",
       "      <th>Category Name</th>\n",
       "      <th>Category ID</th>\n",
       "      <th>Name</th>\n",
       "      <th>Image Name</th>\n",
       "      <th>Pred</th>\n",
       "      <th>Confidence</th>\n",
       "    </tr>\n",
       "  </thead>\n",
       "  <tbody>\n",
       "    <tr>\n",
       "      <th>0</th>\n",
       "      <td>Alcohol</td>\n",
       "      <td>alcohol</td>\n",
       "      <td>saint brendan's irish cream liqueur</td>\n",
       "      <td>46892593.jpeg</td>\n",
       "      <td>alcohol</td>\n",
       "      <td>0.999837</td>\n",
       "    </tr>\n",
       "    <tr>\n",
       "      <th>1</th>\n",
       "      <td>Household</td>\n",
       "      <td>household</td>\n",
       "      <td>festive voice waterglobe (1 ct)</td>\n",
       "      <td>59249357.jpeg</td>\n",
       "      <td>household</td>\n",
       "      <td>0.769288</td>\n",
       "    </tr>\n",
       "    <tr>\n",
       "      <th>2</th>\n",
       "      <td>Vitamins</td>\n",
       "      <td>vitamins</td>\n",
       "      <td>aura cacia eucalyptus 100% pure essential oil ...</td>\n",
       "      <td>65693796.jpeg</td>\n",
       "      <td>vitamins</td>\n",
       "      <td>0.998741</td>\n",
       "    </tr>\n",
       "    <tr>\n",
       "      <th>3</th>\n",
       "      <td>Personal Care</td>\n",
       "      <td>personal_care</td>\n",
       "      <td>hollywood beauty coconut oil (2 oz)</td>\n",
       "      <td>91619698.jpeg</td>\n",
       "      <td>personal_care</td>\n",
       "      <td>0.959489</td>\n",
       "    </tr>\n",
       "    <tr>\n",
       "      <th>4</th>\n",
       "      <td>Pantry</td>\n",
       "      <td>pantry</td>\n",
       "      <td>jell-o cherry gelatin dessert (6 oz)</td>\n",
       "      <td>3535125.jpeg</td>\n",
       "      <td>pantry</td>\n",
       "      <td>0.955524</td>\n",
       "    </tr>\n",
       "    <tr>\n",
       "      <th>...</th>\n",
       "      <td>...</td>\n",
       "      <td>...</td>\n",
       "      <td>...</td>\n",
       "      <td>...</td>\n",
       "      <td>...</td>\n",
       "      <td>...</td>\n",
       "    </tr>\n",
       "    <tr>\n",
       "      <th>16273</th>\n",
       "      <td>Meat &amp; Fish</td>\n",
       "      <td>meat_and_fish</td>\n",
       "      <td>bar s sliced bacon (12 oz)</td>\n",
       "      <td>49092778.jpeg</td>\n",
       "      <td>meat_and_fish</td>\n",
       "      <td>0.998832</td>\n",
       "    </tr>\n",
       "    <tr>\n",
       "      <th>16274</th>\n",
       "      <td>Household</td>\n",
       "      <td>household</td>\n",
       "      <td>sharpie marker retractable fine point fine (2 ct)</td>\n",
       "      <td>19984289.jpeg</td>\n",
       "      <td>household</td>\n",
       "      <td>0.999931</td>\n",
       "    </tr>\n",
       "    <tr>\n",
       "      <th>16275</th>\n",
       "      <td>Snacks</td>\n",
       "      <td>snacks</td>\n",
       "      <td>endangered species bar oat mlk dk chocolate rc...</td>\n",
       "      <td>81544706.jpeg</td>\n",
       "      <td>candy</td>\n",
       "      <td>0.801836</td>\n",
       "    </tr>\n",
       "    <tr>\n",
       "      <th>16276</th>\n",
       "      <td>Pantry</td>\n",
       "      <td>pantry</td>\n",
       "      <td>maries, dressing, poppy seed</td>\n",
       "      <td>64042401.jpeg</td>\n",
       "      <td>pantry</td>\n",
       "      <td>0.999975</td>\n",
       "    </tr>\n",
       "    <tr>\n",
       "      <th>16277</th>\n",
       "      <td>Frozen</td>\n",
       "      <td>frozen</td>\n",
       "      <td>jack's original thin hamburger pizza</td>\n",
       "      <td>83970740.jpeg</td>\n",
       "      <td>frozen</td>\n",
       "      <td>0.999312</td>\n",
       "    </tr>\n",
       "  </tbody>\n",
       "</table>\n",
       "<p>16278 rows × 6 columns</p>\n",
       "</div>"
      ],
      "text/plain": [
       "       Category Name    Category ID  \\\n",
       "0            Alcohol        alcohol   \n",
       "1          Household      household   \n",
       "2           Vitamins       vitamins   \n",
       "3      Personal Care  personal_care   \n",
       "4             Pantry         pantry   \n",
       "...              ...            ...   \n",
       "16273    Meat & Fish  meat_and_fish   \n",
       "16274      Household      household   \n",
       "16275         Snacks         snacks   \n",
       "16276         Pantry         pantry   \n",
       "16277         Frozen         frozen   \n",
       "\n",
       "                                                    Name     Image Name  \\\n",
       "0                    saint brendan's irish cream liqueur  46892593.jpeg   \n",
       "1                        festive voice waterglobe (1 ct)  59249357.jpeg   \n",
       "2      aura cacia eucalyptus 100% pure essential oil ...  65693796.jpeg   \n",
       "3                    hollywood beauty coconut oil (2 oz)  91619698.jpeg   \n",
       "4                   jell-o cherry gelatin dessert (6 oz)   3535125.jpeg   \n",
       "...                                                  ...            ...   \n",
       "16273                         bar s sliced bacon (12 oz)  49092778.jpeg   \n",
       "16274  sharpie marker retractable fine point fine (2 ct)  19984289.jpeg   \n",
       "16275  endangered species bar oat mlk dk chocolate rc...  81544706.jpeg   \n",
       "16276                       maries, dressing, poppy seed  64042401.jpeg   \n",
       "16277               jack's original thin hamburger pizza  83970740.jpeg   \n",
       "\n",
       "                Pred  Confidence  \n",
       "0            alcohol    0.999837  \n",
       "1          household    0.769288  \n",
       "2           vitamins    0.998741  \n",
       "3      personal_care    0.959489  \n",
       "4             pantry    0.955524  \n",
       "...              ...         ...  \n",
       "16273  meat_and_fish    0.998832  \n",
       "16274      household    0.999931  \n",
       "16275          candy    0.801836  \n",
       "16276         pantry    0.999975  \n",
       "16277         frozen    0.999312  \n",
       "\n",
       "[16278 rows x 6 columns]"
      ]
     },
     "execution_count": 7,
     "metadata": {},
     "output_type": "execute_result"
    }
   ],
   "source": [
    "# load all predictions\n",
    "dir_path = \"../local/preds/hybrid-best\"\n",
    "# key = category id, value = data frame\n",
    "predictions = {}  \n",
    "\n",
    "for filename in os.listdir(dir_path):\n",
    "    category_id = filename[:-4]  # strip .csv\n",
    "    filepath = os.path.join(dir_path, filename)\n",
    "\n",
    "    # store (category id, predictions)\n",
    "    predictions[category_id] = pd.read_csv(filepath)\n",
    "    \n",
    "predictions[\"grocery\"]"
   ]
  },
  {
   "cell_type": "markdown",
   "metadata": {},
   "source": [
    "Visualize examples of an L2 class incorrectly predicted as another L2 class."
   ]
  },
  {
   "cell_type": "code",
   "execution_count": 20,
   "metadata": {},
   "outputs": [],
   "source": [
    "def visualize_errors(l1, correct_l2, incorrect_l2):\n",
    "    preds = predictions[l1]\n",
    "    mask = ((preds[\"Category ID\"] == correct_l2) & (preds[\"Pred\"] == incorrect_l2)) | ((preds[\"Category ID\"] == incorrect_l2) & (preds[\"Pred\"] == correct_l2))\n",
    "    return preds[mask].sort_values([\"Category ID\", \"Confidence\"], ascending=False)[[\"Category ID\", \"Name\", \"Pred\", \"Confidence\"]]"
   ]
  },
  {
   "cell_type": "code",
   "execution_count": 21,
   "metadata": {},
   "outputs": [
    {
     "name": "stdout",
     "output_type": "stream",
     "text": [
      "     Category ID                                                                                Name     Pred  Confidence\n",
      "1279     popcorn                                      pop chips potato chip snack barbeque (6.25 oz)    chips    0.997761\n",
      "434      popcorn      old outch tostados white corn restaurante style premium tortilla chips (14 oz)    chips    0.995561\n",
      "257      popcorn  pirates booty rice and corn puffs baked aged white cheddar lunch packs - 12-0.5 oz    chips    0.554991\n",
      "661      popcorn  pirates booty rice and corn puffs baked aged white cheddar lunch packs - 12-0.5 oz    chips    0.554991\n",
      "204        chips                                                   better made cheese popcorn (9 oz)  popcorn    0.979122\n",
      "1552       chips                             cracker jack caramel coated popcorn & peanuts (2.87 oz)  popcorn    0.972576\n",
      "1479       chips                               safe + fair sweet & salty kettle popcorn quinoa chips  popcorn    0.963187\n",
      "1347       chips                           family farm grown family farm light butter popcorn (9 oz)  popcorn    0.959334\n",
      "263        chips                                                        better made corn pops (8 oz)  popcorn    0.950484\n",
      "957        chips                                                     valley popcorn yellow (18.2 oz)  popcorn    0.926310\n",
      "1095       chips                                         popcorners sweet & salty kettle corn (7 oz)  popcorn    0.805142\n",
      "704        chips                                   essential everyday rice snacks, caramel (7.04 oz)  popcorn    0.432782\n"
     ]
    }
   ],
   "source": [
    "print(visualize_errors(\"snacks\", \"chips\", \"popcorn\").to_string())"
   ]
  },
  {
   "cell_type": "code",
   "execution_count": 24,
   "metadata": {},
   "outputs": [
    {
     "name": "stdout",
     "output_type": "stream",
     "text": [
      "     Category ID                                                        Name        Pred  Confidence\n",
      "1938      sauces                         heinz tomato ketchup simply (20 oz)  condiments    0.998362\n",
      "334       sauces                  sir kensingtons spicy brown mustard (9 oz)  condiments    0.990694\n",
      "1647      sauces                   chosen foods classic organic mayo (12 oz)  condiments    0.970673\n",
      "854       sauces                                  kraft tartar sauce (12 oz)  condiments    0.918698\n",
      "1385      sauces                                  kraft tartar sauce (12 oz)  condiments    0.918698\n",
      "2110      sauces  essential everyday sandwich sauce, creamy chipotle (10 oz)  condiments    0.806261\n",
      "236       sauces                  bookbinders prepared horseradish (9.75 oz)  condiments    0.590590\n",
      "273   condiments                                 franks red hot sauce (5 oz)      sauces    0.992196\n",
      "209   condiments                             huy fong sriracha sauce (28 oz)      sauces    0.983094\n",
      "610   condiments                                    tapatio hot sauce (5 oz)      sauces    0.979127\n",
      "1113  condiments                    kikkoman sauce oyster flavored (12.6 oz)      sauces    0.937253\n",
      "157   condiments                               minors teriyaki sauce (74 oz)      sauces    0.906222\n",
      "819   condiments                             s&b fresh grated wasabi in tube      sauces    0.897472\n",
      "2400  condiments                                 heinz mayoracha saucy sauce      sauces    0.880469\n",
      "106   condiments                  mccormick country gravy original (2.64 oz)      sauces    0.626273\n",
      "2131  condiments                   kikkoman less sodium soy sauce (10 fl oz)      sauces    0.582639\n",
      "2300  condiments                       sir kensingtons special sauce (12 oz)      sauces    0.514229\n"
     ]
    }
   ],
   "source": [
    "print(visualize_errors(\"pantry\", \"condiments\", \"sauces\").to_string())"
   ]
  },
  {
   "cell_type": "code",
   "execution_count": 25,
   "metadata": {},
   "outputs": [
    {
     "name": "stdout",
     "output_type": "stream",
     "text": [
      "        Category ID                                                                                 Name       Pred  Confidence\n",
      "400  toddler_snacks                                          happy baby banana & pumpkin superfood puffs  baby_food    0.980166\n",
      "247  toddler_snacks  stonyfield organic yobaby apple & blueberry whole milk yogurt 6 count (6 ct / 4 oz)  baby_food    0.837877\n"
     ]
    }
   ],
   "source": [
    "print(visualize_errors(\"baby_and_child\", \"baby_food\", \"toddler_snacks\").to_string())"
   ]
  },
  {
   "cell_type": "code",
   "execution_count": null,
   "metadata": {},
   "outputs": [],
   "source": []
  }
 ],
 "metadata": {
  "kernelspec": {
   "display_name": "Environment (conda_pytorch_p36)",
   "language": "python",
   "name": "conda_pytorch_p36"
  },
  "language_info": {
   "codemirror_mode": {
    "name": "ipython",
    "version": 3
   },
   "file_extension": ".py",
   "mimetype": "text/x-python",
   "name": "python",
   "nbconvert_exporter": "python",
   "pygments_lexer": "ipython3",
   "version": "3.6.10"
  }
 },
 "nbformat": 4,
 "nbformat_minor": 4
}
