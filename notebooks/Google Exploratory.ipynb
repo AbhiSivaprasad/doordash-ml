{
 "cells": [
  {
   "cell_type": "code",
   "execution_count": 1,
   "metadata": {},
   "outputs": [
    {
     "data": {
      "text/html": [
       "<style>.container { width:100% !important; }</style>"
      ],
      "text/plain": [
       "<IPython.core.display.HTML object>"
      ]
     },
     "metadata": {},
     "output_type": "display_data"
    }
   ],
   "source": [
    "%load_ext autoreload\n",
    "%autoreload 2\n",
    "\n",
    "from IPython.core.display import display, HTML\n",
    "display(HTML(\"<style>.container { width:100% !important; }</style>\"))"
   ]
  },
  {
   "cell_type": "code",
   "execution_count": 2,
   "metadata": {},
   "outputs": [],
   "source": [
    "import pandas as pd\n",
    "import numpy as np\n",
    "import random\n",
    "import torch\n",
    "import transformers\n",
    "import matplotlib.pyplot as plt\n",
    "import seaborn as sns"
   ]
  },
  {
   "cell_type": "code",
   "execution_count": 3,
   "metadata": {},
   "outputs": [
    {
     "ename": "FileNotFoundError",
     "evalue": "[Errno 2] File ../google.csv does not exist: '../google.csv'",
     "output_type": "error",
     "traceback": [
      "\u001b[0;31m---------------------------------------------------------------------------\u001b[0m",
      "\u001b[0;31mFileNotFoundError\u001b[0m                         Traceback (most recent call last)",
      "\u001b[0;32m<ipython-input-3-d78ad846c4eb>\u001b[0m in \u001b[0;36m<module>\u001b[0;34m\u001b[0m\n\u001b[0;32m----> 1\u001b[0;31m \u001b[0mdf\u001b[0m \u001b[0;34m=\u001b[0m \u001b[0mpd\u001b[0m\u001b[0;34m.\u001b[0m\u001b[0mread_csv\u001b[0m\u001b[0;34m(\u001b[0m\u001b[0;34m\"../google.csv\"\u001b[0m\u001b[0;34m)\u001b[0m\u001b[0;34m\u001b[0m\u001b[0;34m\u001b[0m\u001b[0m\n\u001b[0m\u001b[1;32m      2\u001b[0m \u001b[0mdf\u001b[0m\u001b[0;34m\u001b[0m\u001b[0;34m\u001b[0m\u001b[0m\n",
      "\u001b[0;32m~/anaconda3/envs/pytorch_p36/lib/python3.6/site-packages/pandas/io/parsers.py\u001b[0m in \u001b[0;36mparser_f\u001b[0;34m(filepath_or_buffer, sep, delimiter, header, names, index_col, usecols, squeeze, prefix, mangle_dupe_cols, dtype, engine, converters, true_values, false_values, skipinitialspace, skiprows, skipfooter, nrows, na_values, keep_default_na, na_filter, verbose, skip_blank_lines, parse_dates, infer_datetime_format, keep_date_col, date_parser, dayfirst, cache_dates, iterator, chunksize, compression, thousands, decimal, lineterminator, quotechar, quoting, doublequote, escapechar, comment, encoding, dialect, error_bad_lines, warn_bad_lines, delim_whitespace, low_memory, memory_map, float_precision)\u001b[0m\n\u001b[1;32m    674\u001b[0m         )\n\u001b[1;32m    675\u001b[0m \u001b[0;34m\u001b[0m\u001b[0m\n\u001b[0;32m--> 676\u001b[0;31m         \u001b[0;32mreturn\u001b[0m \u001b[0m_read\u001b[0m\u001b[0;34m(\u001b[0m\u001b[0mfilepath_or_buffer\u001b[0m\u001b[0;34m,\u001b[0m \u001b[0mkwds\u001b[0m\u001b[0;34m)\u001b[0m\u001b[0;34m\u001b[0m\u001b[0;34m\u001b[0m\u001b[0m\n\u001b[0m\u001b[1;32m    677\u001b[0m \u001b[0;34m\u001b[0m\u001b[0m\n\u001b[1;32m    678\u001b[0m     \u001b[0mparser_f\u001b[0m\u001b[0;34m.\u001b[0m\u001b[0m__name__\u001b[0m \u001b[0;34m=\u001b[0m \u001b[0mname\u001b[0m\u001b[0;34m\u001b[0m\u001b[0;34m\u001b[0m\u001b[0m\n",
      "\u001b[0;32m~/anaconda3/envs/pytorch_p36/lib/python3.6/site-packages/pandas/io/parsers.py\u001b[0m in \u001b[0;36m_read\u001b[0;34m(filepath_or_buffer, kwds)\u001b[0m\n\u001b[1;32m    446\u001b[0m \u001b[0;34m\u001b[0m\u001b[0m\n\u001b[1;32m    447\u001b[0m     \u001b[0;31m# Create the parser.\u001b[0m\u001b[0;34m\u001b[0m\u001b[0;34m\u001b[0m\u001b[0;34m\u001b[0m\u001b[0m\n\u001b[0;32m--> 448\u001b[0;31m     \u001b[0mparser\u001b[0m \u001b[0;34m=\u001b[0m \u001b[0mTextFileReader\u001b[0m\u001b[0;34m(\u001b[0m\u001b[0mfp_or_buf\u001b[0m\u001b[0;34m,\u001b[0m \u001b[0;34m**\u001b[0m\u001b[0mkwds\u001b[0m\u001b[0;34m)\u001b[0m\u001b[0;34m\u001b[0m\u001b[0;34m\u001b[0m\u001b[0m\n\u001b[0m\u001b[1;32m    449\u001b[0m \u001b[0;34m\u001b[0m\u001b[0m\n\u001b[1;32m    450\u001b[0m     \u001b[0;32mif\u001b[0m \u001b[0mchunksize\u001b[0m \u001b[0;32mor\u001b[0m \u001b[0miterator\u001b[0m\u001b[0;34m:\u001b[0m\u001b[0;34m\u001b[0m\u001b[0;34m\u001b[0m\u001b[0m\n",
      "\u001b[0;32m~/anaconda3/envs/pytorch_p36/lib/python3.6/site-packages/pandas/io/parsers.py\u001b[0m in \u001b[0;36m__init__\u001b[0;34m(self, f, engine, **kwds)\u001b[0m\n\u001b[1;32m    878\u001b[0m             \u001b[0mself\u001b[0m\u001b[0;34m.\u001b[0m\u001b[0moptions\u001b[0m\u001b[0;34m[\u001b[0m\u001b[0;34m\"has_index_names\"\u001b[0m\u001b[0;34m]\u001b[0m \u001b[0;34m=\u001b[0m \u001b[0mkwds\u001b[0m\u001b[0;34m[\u001b[0m\u001b[0;34m\"has_index_names\"\u001b[0m\u001b[0;34m]\u001b[0m\u001b[0;34m\u001b[0m\u001b[0;34m\u001b[0m\u001b[0m\n\u001b[1;32m    879\u001b[0m \u001b[0;34m\u001b[0m\u001b[0m\n\u001b[0;32m--> 880\u001b[0;31m         \u001b[0mself\u001b[0m\u001b[0;34m.\u001b[0m\u001b[0m_make_engine\u001b[0m\u001b[0;34m(\u001b[0m\u001b[0mself\u001b[0m\u001b[0;34m.\u001b[0m\u001b[0mengine\u001b[0m\u001b[0;34m)\u001b[0m\u001b[0;34m\u001b[0m\u001b[0;34m\u001b[0m\u001b[0m\n\u001b[0m\u001b[1;32m    881\u001b[0m \u001b[0;34m\u001b[0m\u001b[0m\n\u001b[1;32m    882\u001b[0m     \u001b[0;32mdef\u001b[0m \u001b[0mclose\u001b[0m\u001b[0;34m(\u001b[0m\u001b[0mself\u001b[0m\u001b[0;34m)\u001b[0m\u001b[0;34m:\u001b[0m\u001b[0;34m\u001b[0m\u001b[0;34m\u001b[0m\u001b[0m\n",
      "\u001b[0;32m~/anaconda3/envs/pytorch_p36/lib/python3.6/site-packages/pandas/io/parsers.py\u001b[0m in \u001b[0;36m_make_engine\u001b[0;34m(self, engine)\u001b[0m\n\u001b[1;32m   1112\u001b[0m     \u001b[0;32mdef\u001b[0m \u001b[0m_make_engine\u001b[0m\u001b[0;34m(\u001b[0m\u001b[0mself\u001b[0m\u001b[0;34m,\u001b[0m \u001b[0mengine\u001b[0m\u001b[0;34m=\u001b[0m\u001b[0;34m\"c\"\u001b[0m\u001b[0;34m)\u001b[0m\u001b[0;34m:\u001b[0m\u001b[0;34m\u001b[0m\u001b[0;34m\u001b[0m\u001b[0m\n\u001b[1;32m   1113\u001b[0m         \u001b[0;32mif\u001b[0m \u001b[0mengine\u001b[0m \u001b[0;34m==\u001b[0m \u001b[0;34m\"c\"\u001b[0m\u001b[0;34m:\u001b[0m\u001b[0;34m\u001b[0m\u001b[0;34m\u001b[0m\u001b[0m\n\u001b[0;32m-> 1114\u001b[0;31m             \u001b[0mself\u001b[0m\u001b[0;34m.\u001b[0m\u001b[0m_engine\u001b[0m \u001b[0;34m=\u001b[0m \u001b[0mCParserWrapper\u001b[0m\u001b[0;34m(\u001b[0m\u001b[0mself\u001b[0m\u001b[0;34m.\u001b[0m\u001b[0mf\u001b[0m\u001b[0;34m,\u001b[0m \u001b[0;34m**\u001b[0m\u001b[0mself\u001b[0m\u001b[0;34m.\u001b[0m\u001b[0moptions\u001b[0m\u001b[0;34m)\u001b[0m\u001b[0;34m\u001b[0m\u001b[0;34m\u001b[0m\u001b[0m\n\u001b[0m\u001b[1;32m   1115\u001b[0m         \u001b[0;32melse\u001b[0m\u001b[0;34m:\u001b[0m\u001b[0;34m\u001b[0m\u001b[0;34m\u001b[0m\u001b[0m\n\u001b[1;32m   1116\u001b[0m             \u001b[0;32mif\u001b[0m \u001b[0mengine\u001b[0m \u001b[0;34m==\u001b[0m \u001b[0;34m\"python\"\u001b[0m\u001b[0;34m:\u001b[0m\u001b[0;34m\u001b[0m\u001b[0;34m\u001b[0m\u001b[0m\n",
      "\u001b[0;32m~/anaconda3/envs/pytorch_p36/lib/python3.6/site-packages/pandas/io/parsers.py\u001b[0m in \u001b[0;36m__init__\u001b[0;34m(self, src, **kwds)\u001b[0m\n\u001b[1;32m   1889\u001b[0m         \u001b[0mkwds\u001b[0m\u001b[0;34m[\u001b[0m\u001b[0;34m\"usecols\"\u001b[0m\u001b[0;34m]\u001b[0m \u001b[0;34m=\u001b[0m \u001b[0mself\u001b[0m\u001b[0;34m.\u001b[0m\u001b[0musecols\u001b[0m\u001b[0;34m\u001b[0m\u001b[0;34m\u001b[0m\u001b[0m\n\u001b[1;32m   1890\u001b[0m \u001b[0;34m\u001b[0m\u001b[0m\n\u001b[0;32m-> 1891\u001b[0;31m         \u001b[0mself\u001b[0m\u001b[0;34m.\u001b[0m\u001b[0m_reader\u001b[0m \u001b[0;34m=\u001b[0m \u001b[0mparsers\u001b[0m\u001b[0;34m.\u001b[0m\u001b[0mTextReader\u001b[0m\u001b[0;34m(\u001b[0m\u001b[0msrc\u001b[0m\u001b[0;34m,\u001b[0m \u001b[0;34m**\u001b[0m\u001b[0mkwds\u001b[0m\u001b[0;34m)\u001b[0m\u001b[0;34m\u001b[0m\u001b[0;34m\u001b[0m\u001b[0m\n\u001b[0m\u001b[1;32m   1892\u001b[0m         \u001b[0mself\u001b[0m\u001b[0;34m.\u001b[0m\u001b[0munnamed_cols\u001b[0m \u001b[0;34m=\u001b[0m \u001b[0mself\u001b[0m\u001b[0;34m.\u001b[0m\u001b[0m_reader\u001b[0m\u001b[0;34m.\u001b[0m\u001b[0munnamed_cols\u001b[0m\u001b[0;34m\u001b[0m\u001b[0;34m\u001b[0m\u001b[0m\n\u001b[1;32m   1893\u001b[0m \u001b[0;34m\u001b[0m\u001b[0m\n",
      "\u001b[0;32mpandas/_libs/parsers.pyx\u001b[0m in \u001b[0;36mpandas._libs.parsers.TextReader.__cinit__\u001b[0;34m()\u001b[0m\n",
      "\u001b[0;32mpandas/_libs/parsers.pyx\u001b[0m in \u001b[0;36mpandas._libs.parsers.TextReader._setup_parser_source\u001b[0;34m()\u001b[0m\n",
      "\u001b[0;31mFileNotFoundError\u001b[0m: [Errno 2] File ../google.csv does not exist: '../google.csv'"
     ]
    }
   ],
   "source": [
    "df = pd.read_csv(\"../google.csv\")\n",
    "df"
   ]
  },
  {
   "cell_type": "code",
   "execution_count": 4,
   "metadata": {},
   "outputs": [
    {
     "data": {
      "text/plain": [
       "id             1561206\n",
       "title          1520344\n",
       "description    1228733\n",
       "category          5492\n",
       "images         1510682\n",
       "seller           41507\n",
       "url            1561206\n",
       "dtype: int64"
      ]
     },
     "execution_count": 4,
     "metadata": {},
     "output_type": "execute_result"
    }
   ],
   "source": [
    "df.nunique()"
   ]
  },
  {
   "cell_type": "code",
   "execution_count": 5,
   "metadata": {
    "scrolled": true
   },
   "outputs": [
    {
     "name": "stdout",
     "output_type": "stream",
     "text": [
      "                           id                                                                                                                                       title\n",
      "1220422  10000000167364349403                                                                                       Summit Buddha Amitabha Collectible Sculpture EZ268303\n",
      "304792   10000000167364349403                                                                                       Summit Buddha Amitabha Collectible Sculpture EZ268303\n",
      "1025288  10000007198605757577  Ekena Millwork 14 1/2 inchw x 53 inchh Lifetime Vinyl, Custom Offset Panel, Raised Panel Shutters, w/Shutter-Loks (Per Pair), Classic Blue\n",
      "1517063   1000001423483945629                                                                DEYIOU 48 Color Pencil Premium Pre-Sharpened Water Soluble Water Crayons Set\n",
      "990665   10000021515066185429                                                                 Royal Langnickel Majestic R4100T-16 Taklon Acrylic and Oil Brush Filbert 16\n",
      "298029   10000026198309606918                                                                                     Flags! Georgia Morocco | Moroccan Flag Toothpicks (100)\n",
      "180849   10000063546575934170                                                        Harrison Lane Royal 4-Light Crystal Chandelier Feature: Plug-In Kit Included T40-120\n",
      "918596   10000084453936595606                                                                                SF Cable Cat5e Shielded (STP) Ethernet Cable, 75 Feet - Gray\n",
      "226706   10000107789535242626                                                                                                       Polish Pottery Festive Fir Muffin Pan\n",
      "1277942  10000118266515469016        Ekena Millwork 15\"W x 27\"H Exterior Four Board (2 Batten) Real Wood Western Red Cedar Board-n-Batten Shutters (Per Pair), Unfinished\n",
      "1010196  10000141087517813676            Apple Watch Series 2 38mm Smartwatch(Stainless Steel Case,Midnight Blue Medium Modern Buckle Band) + Watch Band Rose Gold Bundle\n",
      "1473795  10000151189771365381                                                                Mobile Edge The ECO 15.6\" to 17.3\" Notebook Messenger Notebook carrying case\n",
      "76887    10000151189771365381                                                                Mobile Edge The ECO 15.6\" to 17.3\" Notebook Messenger Notebook carrying case\n",
      "391555   10000166711209370554                                                                                                    Sheltie Circle Swirly Metal Wind Spinner\n",
      "40851    10000172316079825737                                           Follure Hip Loop Fitness Squat Resistance Latex Loop Yoga Stretch Belt Indoor Sports Light Blue M\n",
      "475417    1000018027006061730                                                                                                                        Day Is My Enemy (cd)\n",
      "1643260  10000187799901087723                                                   Speaker and Amplifier Bundle 4 x Pyle PLMRLE64DK Sound Around | Blue 2PLMRLE64DK-PLMRMP3A\n",
      "487341    1000018830142870487                                                                                                         Mirabella Blush Duo - Love/Soulmate\n",
      "1563981  10000194104483914648                                                                                         Scotty Depthking 23\" Manual Downrigger w/Rod Holder\n",
      "991185    1000020693453951064                                                                                                          LOL Surprise Beverage Napkins (16)\n",
      "1147651  10000231210785414440                                                                                                October Mountain 60845 Quiver Clip Universal\n",
      "1179036  10000241926493661449                                                                                                P-Tec Products, Npjw No-Pest Dryer Vent Hood\n",
      "225349   10000244890100069304                                                                                             ITW 34420 20 oz Foam Oven Cleaner - 12 per Case\n",
      "1377188  10000245014490379719                                                          Electroflip Motion Detect Fake Light Bulb Nightvision Security Surveillance Camera\n",
      "1626334  10000245106004087052                                                                                          Pyrex Bakeware 4.8 Quart Oblong Baking Dish, Clear\n",
      "1343299  10000245106004087052                                                                                          Pyrex Bakeware 4.8 Quart Oblong Baking Dish, Clear\n",
      "466209   10000245521793121175                                                                                      Pacific Tigers 24 Count Table Tennis Balls Logo Design\n",
      "820743   10000247666394996418      StarTech.com Micro USB OTG to USB Adapter - Micro USB Male OTG to USB Female Adapter - USB On The Go Adapter (UUSBOTGADAP) USB adapter\n",
      "1799991  10000247666394996418      StarTech.com Micro USB OTG to USB Adapter - Micro USB Male OTG to USB Female Adapter - USB On The Go Adapter (UUSBOTGADAP) USB adapter\n",
      "416919   10000251940775709018                                                                                   Apple iPhone 8 256GB Space Gray (Unlocked) refurbished B+\n",
      "1458110   1000025853697870882                                                                                          Macho Mini Target -Square Hand Target mWWWMT - Red\n",
      "109805   10000260566876975421                                                                                My Brother Is A Bullmastiff Funny Dog Infant Toddler T-Shirt\n",
      "1641969  10000280156377486944         Ekena Millwork BMRW2C0120X100X168PE 12\"W x 10\"H x 14'L 2-Sided (L-beam) Riverwood Endurathane Faux Wood Ceiling Beam, Natural Pecan\n",
      "512117   10000284939924225353                                                                 New Balance Fresh Foam Turf Velo1 Women's Softball Shoes - White (Size 6.5)\n",
      "1587203  10000296838937129616            Eufy Lumos Smart Bulb 2.0 - White, Soft White 2700K, 9W, Compatible with Alexa, No Hub Required, Wi-Fi, 60W Equivalent, Dimmable\n",
      "1095936   1000029743623976863                                                                                    Honey Can Do 3-Shelf Deluxe Rolling Garment Rack, Chrome\n",
      "842848    1000029743623976863                                                                                    Honey Can Do 3-Shelf Deluxe Rolling Garment Rack, Chrome\n",
      "194816   10000303053661977255                                                                                                         Uniden BC365CRS 500-Channel Scanner\n",
      "1474434  10000319645775819584                                                                                               Now Foods - Organic Acacia Fiber Powder 12 oz\n",
      "1435980  10000323763647625187                                                                                        Frame Womens Suede Fringe Mini Skirt, Size: 25, Noir\n",
      "455987   10000325346276501866                                                                                     Times A83-12 Eco Album 40 Photos - M - Pack of 2 A83-11\n",
      "613759   10000325691838830207                                                                                               Iogear G2L5205U 16ft USB VGA KVM Cable Bonded\n",
      "446086   10000335677227001084                                                                                                           Member's Mark Sauce Pan- 2.75 qt.\n",
      "1475577  10000339781424043549                                                                                Fawn Pug Penny for Your Thoughts Ceramic Night Light 7026CNL\n",
      "13504    10000350987970132684                                                                                          Pro-Series Exercise Ball Slow-Deflate Yellow 45cm.\n",
      "794415   10000362251707190397                                                                         Cards from The Hedge: Stylish Valentine's Day Printed Greeting Card\n",
      "1633488  10000402015190910784                                                                             Pig Hog Solutions Trs(m) to XLR(F) Balanced Adapter Cable 20 ft\n",
      "342539   10000412107985736837                                                                                                     Ugg Adirondack Boot III 5 Women's Black\n",
      "1130241  10000412991662379747                                                     Signature Hardware 72\" Curved Commercial Grade Double Shower Curtain Rod Brushed Nickel\n",
      "1520489  10000412991662379747                                                     Signature Hardware 72\" Curved Commercial Grade Double Shower Curtain Rod Brushed Nickel\n",
      "1277818  10000423749528704778                                                                                   Bowery Hill Adjustable Lift Desk in Gray Oak - BH-1573673\n",
      "395455   10000423749528704778                                                                                   Bowery Hill Adjustable Lift Desk in Gray Oak - BH-1573673\n",
      "766937   10000448845167639917                                                                                              Morris 22174 Spiral Wrap Nylon .47\"- 1.38\" 33'\n",
      "1260848  10000448845167639917                                                                                              Morris 22174 Spiral Wrap Nylon .47\"- 1.38\" 33'\n",
      "1096088  10000452207006003395                                                                                                                Sarah, Plain and Tall [Book]\n",
      "1036857  10000452644983172930                                                                                             HP 70 130-ml Light Gray DesignJet Ink Cartridge\n",
      "196170   10000453557745040839                                           MightySkins CF-APAIPO-Softball Collection Carbon Fiber Skin for Apple AirPods Softball Collection\n",
      "1421590  10000454581010705780                                                                             Yamaha FX Nytro/ RTX '08-13 Snowmobile Slide 43in Garland Black\n",
      "768827   10000460259281444485                                                                                                      Wow! Embossing Powder 15ml (Rose Gold)\n",
      "97798    10000465054633244032                                                                         Bushnell Marine 137501 7x50 Binoculars - Fogproof/Waterproof - Blue\n",
      "778024   10000468193273844935                                                        Noritz GQ-2457WS US LP Liquid Propane 4.7 GPM 180000 BTU 120 Volt Residential Liquid\n",
      "916137   10000472889486758773                                                                                    Carolines Treasures SS8161DDM Pomeranian Dish Drying Mat\n",
      "336735   10000498054001719253                                                                                      Bagasse Compartment Plates - Round 9 Inches / 110 Pack\n",
      "1486245  10000498516310019143                                                                                             Goldblatt G05260 Texture Brush, Single Crowfoot\n",
      "1421686  10000506948277909343                                                                                                       Durham 302-95 Large Compartment Boxes\n",
      "169256   10000506948277909343                                                                                                       Durham 302-95 Large Compartment Boxes\n",
      "1725945  10000517069991848843                                                         Samsung Galaxy S5 Cell Phone Memory Card 32GB microSDHC Memory Card with SD Adapter\n",
      "1400050   1000051879624136040                                                                                               Detecto Physician Scale, 400 lb. Capacity 439\n",
      "1502985  10000547262734791016                                                                                          Lami-Cell 9' Poly Lead with Brass Plated Bolt Snap\n",
      "1849775  10000573117869700954                                                                     3ft SVGA Super VGA M M Monitor Cable W Ferrites Gold Plated Electronics\n",
      "1602595  10000573617883477256                                                                                                  Set of 2 Gold Heart Themed Toasting Flutes\n",
      "379509    1000057791330294574                                                                                                       ThirtyTwo Basement Bib Camo / x Large\n",
      "1768884   1000057791330294574                                                                                                       ThirtyTwo Basement Bib Camo / x Large\n",
      "1034920  10000578540416913177                                                                                         JBL ST330POLYT 125W Poly T RMS Super Bullet Tweeter\n",
      "1443268  10000590063169756950                                                                                                         Advance Dimming Ballast VEZ-3S32-SC\n",
      "1848272  10000592829572512375                                                                               Sonneman 2763.16 Stix 3-Arm LED Pendant Bright Satin Aluminum\n",
      "1052469  10000592829572512375                                                                               Sonneman 2763.16 Stix 3-Arm LED Pendant Bright Satin Aluminum\n",
      "1652451  10000592829572512375                                                                               Sonneman 2763.16 Stix 3-Arm LED Pendant Bright Satin Aluminum\n",
      "894315    1000060056319957143                                                                              Callaway Printed Suiting Plaid Golf Shorts 2019 Quiet Shade 36\n",
      "203644   10000607029459428069                                                                                                          Rivers Edge Ladder Stand Deluxe XT\n",
      "1009404  10000626885783157526                                                                                                              Raco 861 Handy Box Cover, 1/2\"\n",
      "1119244  10000628972616138537                                                                                                                           Fine Foxy Fro Wig\n",
      "1530436  10000654364813880689                                                                                                                    Nike Air Big Kids' Pants\n",
      "1521374  10000654364813880689                                                                                                                    Nike Air Big Kids' Pants\n",
      "571413   10000658139019864922                                                                                                             Nike Miler Women's Running Tank\n",
      "978482   10000672005589073120                                                                         Oakland Living Mississippi Cast Aluminum Arm Chair - Antique Bronze\n",
      "1895068  10000672005589073120                                                                         Oakland Living Mississippi Cast Aluminum Arm Chair - Antique Bronze\n",
      "591635    1000068801836276622                                               Womens Vintage Satin Pleated Envelope Evening Cocktail Wedding Party Handbag Clutch Baby Blue\n",
      "777175    1000073279237594041                                                                 Just Kids Big Girls Off-White Floral Print Feather Accent Jumpsuit Dress 10\n",
      "1687699  10000742646028372447                                                                                Challenge Elite Tubular Road Bicycle Tire (Black - 700 x 22)\n",
      "1722351  10000753277360894563                                                                                                   Assured White Cotton Swabs, 200-Ct. Packs\n",
      "1387974  10000757488859677708  Quality Park Survivor 14 lb - Envelope - catalog - US No 13 (10 in x 13 in) - open end - self-adhesive (Peel & Seal) - white - pack of 100\n",
      "767860     100007640302661435                                                                                Visol Twenty First Birthday Stainless Steel Hip Flask - 6 oz\n",
      "538234   10000767930492943837                                                                HomeRoots Wooden Entryway Bench with 3 Storage Baskets,Blue and Cream 351697\n",
      "864034   10000767930492943837                                                                HomeRoots Wooden Entryway Bench with 3 Storage Baskets,Blue and Cream 351697\n",
      "1371181  10000791597874466499                                                                      Ring Buoy Saftey Flotation Device for Swimming Pools 18\" - White/Black\n",
      "1637004  10000798575992522355                                                                        Listen Technologies LW-100P-02-01 Listen Everywhere 2 Channel Server\n",
      "91336    10000808447479990557                                                                                          Splash OMGCHST8PCH 8 lbs Chlorine Stabilizer Pouch\n",
      "670822   10000808447479990557                                                                                          Splash OMGCHST8PCH 8 lbs Chlorine Stabilizer Pouch\n",
      "305271   10000822467590075552                                                                            Dip Cape Cottage Wall Planks (14.2 Sq ft/12 Planks) Peel & Stick\n"
     ]
    }
   ],
   "source": [
    "id_sorted = df.sort_values([\"id\"])[:100]\n",
    "print(id_sorted[[\"id\", \"title\"]].to_string())"
   ]
  },
  {
   "cell_type": "code",
   "execution_count": 6,
   "metadata": {},
   "outputs": [],
   "source": [
    "df = df[~df.duplicated(subset=[\"id\"])]\n",
    "df = df[~df.duplicated(subset=[\"title\"])]"
   ]
  },
  {
   "cell_type": "code",
   "execution_count": 7,
   "metadata": {},
   "outputs": [
    {
     "data": {
      "text/plain": [
       "1518054"
      ]
     },
     "execution_count": 7,
     "metadata": {},
     "output_type": "execute_result"
    }
   ],
   "source": [
    "len(df)"
   ]
  },
  {
   "cell_type": "code",
   "execution_count": 8,
   "metadata": {},
   "outputs": [
    {
     "data": {
      "text/plain": [
       "id                 0\n",
       "title              0\n",
       "description    34468\n",
       "category           0\n",
       "images             0\n",
       "seller             0\n",
       "url                0\n",
       "dtype: int64"
      ]
     },
     "execution_count": 8,
     "metadata": {},
     "output_type": "execute_result"
    }
   ],
   "source": [
    "df.isna().sum()"
   ]
  },
  {
   "cell_type": "markdown",
   "metadata": {},
   "source": [
    "## Remapping"
   ]
  },
  {
   "cell_type": "code",
   "execution_count": 20,
   "metadata": {},
   "outputs": [
    {
     "data": {
      "text/html": [
       "<div>\n",
       "<style scoped>\n",
       "    .dataframe tbody tr th:only-of-type {\n",
       "        vertical-align: middle;\n",
       "    }\n",
       "\n",
       "    .dataframe tbody tr th {\n",
       "        vertical-align: top;\n",
       "    }\n",
       "\n",
       "    .dataframe thead th {\n",
       "        text-align: right;\n",
       "    }\n",
       "</style>\n",
       "<table border=\"1\" class=\"dataframe\">\n",
       "  <thead>\n",
       "    <tr style=\"text-align: right;\">\n",
       "      <th></th>\n",
       "      <th>index</th>\n",
       "      <th>category</th>\n",
       "      <th>L1</th>\n",
       "      <th>L2</th>\n",
       "    </tr>\n",
       "  </thead>\n",
       "  <tbody>\n",
       "    <tr>\n",
       "      <th>0</th>\n",
       "      <td>11</td>\n",
       "      <td>Home &gt; Baby &amp; Kids &gt; Baby &gt; Baby &amp; Toddler Toy...</td>\n",
       "      <td>Baby &amp; Child</td>\n",
       "      <td>Toys</td>\n",
       "    </tr>\n",
       "    <tr>\n",
       "      <th>1</th>\n",
       "      <td>227</td>\n",
       "      <td>Home &gt; Baby &amp; Kids &gt; Baby &gt; Baby &amp; Toddler Toy...</td>\n",
       "      <td>Baby &amp; Child</td>\n",
       "      <td>Toys</td>\n",
       "    </tr>\n",
       "    <tr>\n",
       "      <th>2</th>\n",
       "      <td>13</td>\n",
       "      <td>Home &gt; Baby &amp; Kids &gt; Baby &gt; Baby &amp; Toddler Toy...</td>\n",
       "      <td>Baby &amp; Child</td>\n",
       "      <td>Toys</td>\n",
       "    </tr>\n",
       "    <tr>\n",
       "      <th>3</th>\n",
       "      <td>416</td>\n",
       "      <td>Home &gt; Baby &amp; Kids &gt; Baby &gt; Baby &amp; Toddler Toy...</td>\n",
       "      <td>Baby &amp; Child</td>\n",
       "      <td>Toys</td>\n",
       "    </tr>\n",
       "    <tr>\n",
       "      <th>4</th>\n",
       "      <td>236</td>\n",
       "      <td>Home &gt; Baby &amp; Kids &gt; Baby &gt; Baby &amp; Toddler Toy...</td>\n",
       "      <td>Baby &amp; Child</td>\n",
       "      <td>Toys</td>\n",
       "    </tr>\n",
       "    <tr>\n",
       "      <th>...</th>\n",
       "      <td>...</td>\n",
       "      <td>...</td>\n",
       "      <td>...</td>\n",
       "      <td>...</td>\n",
       "    </tr>\n",
       "    <tr>\n",
       "      <th>1333</th>\n",
       "      <td>431</td>\n",
       "      <td>Home &gt; Pet Supplies &gt; Small Animal Supplies &gt; ...</td>\n",
       "      <td>Pet Care</td>\n",
       "      <td>Pet Accessories</td>\n",
       "    </tr>\n",
       "    <tr>\n",
       "      <th>1334</th>\n",
       "      <td>839</td>\n",
       "      <td>Home &gt; Pet Supplies &gt; Small Animal Supplies &gt; ...</td>\n",
       "      <td>Pet Care</td>\n",
       "      <td>Pet Accessories</td>\n",
       "    </tr>\n",
       "    <tr>\n",
       "      <th>1335</th>\n",
       "      <td>578</td>\n",
       "      <td>Home &gt; Pet Supplies &gt; Small Animal Supplies &gt; ...</td>\n",
       "      <td>Pet Care</td>\n",
       "      <td>Pet Accessories</td>\n",
       "    </tr>\n",
       "    <tr>\n",
       "      <th>1336</th>\n",
       "      <td>424</td>\n",
       "      <td>Home &gt; Pet Supplies &gt; Small Animal Supplies &gt; ...</td>\n",
       "      <td>Pet Care</td>\n",
       "      <td>Pet Accessories</td>\n",
       "    </tr>\n",
       "    <tr>\n",
       "      <th>1337</th>\n",
       "      <td>742</td>\n",
       "      <td>Home &gt; Pet Supplies &gt; Small Animal Supplies &gt; ...</td>\n",
       "      <td>Pet Care</td>\n",
       "      <td>Pet Accessories</td>\n",
       "    </tr>\n",
       "  </tbody>\n",
       "</table>\n",
       "<p>1338 rows × 4 columns</p>\n",
       "</div>"
      ],
      "text/plain": [
       "      index                                           category            L1  \\\n",
       "0        11  Home > Baby & Kids > Baby > Baby & Toddler Toy...  Baby & Child   \n",
       "1       227  Home > Baby & Kids > Baby > Baby & Toddler Toy...  Baby & Child   \n",
       "2        13  Home > Baby & Kids > Baby > Baby & Toddler Toy...  Baby & Child   \n",
       "3       416  Home > Baby & Kids > Baby > Baby & Toddler Toy...  Baby & Child   \n",
       "4       236  Home > Baby & Kids > Baby > Baby & Toddler Toy...  Baby & Child   \n",
       "...     ...                                                ...           ...   \n",
       "1333    431  Home > Pet Supplies > Small Animal Supplies > ...      Pet Care   \n",
       "1334    839  Home > Pet Supplies > Small Animal Supplies > ...      Pet Care   \n",
       "1335    578  Home > Pet Supplies > Small Animal Supplies > ...      Pet Care   \n",
       "1336    424  Home > Pet Supplies > Small Animal Supplies > ...      Pet Care   \n",
       "1337    742  Home > Pet Supplies > Small Animal Supplies > ...      Pet Care   \n",
       "\n",
       "                   L2  \n",
       "0                Toys  \n",
       "1                Toys  \n",
       "2                Toys  \n",
       "3                Toys  \n",
       "4                Toys  \n",
       "...               ...  \n",
       "1333  Pet Accessories  \n",
       "1334  Pet Accessories  \n",
       "1335  Pet Accessories  \n",
       "1336  Pet Accessories  \n",
       "1337  Pet Accessories  \n",
       "\n",
       "[1338 rows x 4 columns]"
      ]
     },
     "execution_count": 20,
     "metadata": {},
     "output_type": "execute_result"
    }
   ],
   "source": [
    "remapping = pd.read_csv(\"../google_category_remapping.csv\")\n",
    "del remapping['counts']  # incorrect counts\n",
    "remapping"
   ]
  },
  {
   "cell_type": "code",
   "execution_count": 21,
   "metadata": {},
   "outputs": [
    {
     "data": {
      "text/html": [
       "<div>\n",
       "<style scoped>\n",
       "    .dataframe tbody tr th:only-of-type {\n",
       "        vertical-align: middle;\n",
       "    }\n",
       "\n",
       "    .dataframe tbody tr th {\n",
       "        vertical-align: top;\n",
       "    }\n",
       "\n",
       "    .dataframe thead th {\n",
       "        text-align: right;\n",
       "    }\n",
       "</style>\n",
       "<table border=\"1\" class=\"dataframe\">\n",
       "  <thead>\n",
       "    <tr style=\"text-align: right;\">\n",
       "      <th></th>\n",
       "      <th>index</th>\n",
       "      <th>category</th>\n",
       "      <th>L1</th>\n",
       "      <th>L2</th>\n",
       "    </tr>\n",
       "  </thead>\n",
       "  <tbody>\n",
       "    <tr>\n",
       "      <th>0</th>\n",
       "      <td>11</td>\n",
       "      <td>Home &gt; Baby &amp; Kids &gt; Baby &gt; Baby &amp; Toddler Toy...</td>\n",
       "      <td>Baby &amp; Child</td>\n",
       "      <td>Toys</td>\n",
       "    </tr>\n",
       "    <tr>\n",
       "      <th>1</th>\n",
       "      <td>227</td>\n",
       "      <td>Home &gt; Baby &amp; Kids &gt; Baby &gt; Baby &amp; Toddler Toy...</td>\n",
       "      <td>Baby &amp; Child</td>\n",
       "      <td>Toys</td>\n",
       "    </tr>\n",
       "    <tr>\n",
       "      <th>2</th>\n",
       "      <td>13</td>\n",
       "      <td>Home &gt; Baby &amp; Kids &gt; Baby &gt; Baby &amp; Toddler Toy...</td>\n",
       "      <td>Baby &amp; Child</td>\n",
       "      <td>Toys</td>\n",
       "    </tr>\n",
       "    <tr>\n",
       "      <th>3</th>\n",
       "      <td>416</td>\n",
       "      <td>Home &gt; Baby &amp; Kids &gt; Baby &gt; Baby &amp; Toddler Toy...</td>\n",
       "      <td>Baby &amp; Child</td>\n",
       "      <td>Toys</td>\n",
       "    </tr>\n",
       "    <tr>\n",
       "      <th>4</th>\n",
       "      <td>236</td>\n",
       "      <td>Home &gt; Baby &amp; Kids &gt; Baby &gt; Baby &amp; Toddler Toy...</td>\n",
       "      <td>Baby &amp; Child</td>\n",
       "      <td>Toys</td>\n",
       "    </tr>\n",
       "    <tr>\n",
       "      <th>...</th>\n",
       "      <td>...</td>\n",
       "      <td>...</td>\n",
       "      <td>...</td>\n",
       "      <td>...</td>\n",
       "    </tr>\n",
       "    <tr>\n",
       "      <th>1333</th>\n",
       "      <td>431</td>\n",
       "      <td>Home &gt; Pet Supplies &gt; Small Animal Supplies &gt; ...</td>\n",
       "      <td>Pet Care</td>\n",
       "      <td>Pet Accessories</td>\n",
       "    </tr>\n",
       "    <tr>\n",
       "      <th>1334</th>\n",
       "      <td>839</td>\n",
       "      <td>Home &gt; Pet Supplies &gt; Small Animal Supplies &gt; ...</td>\n",
       "      <td>Pet Care</td>\n",
       "      <td>Pet Accessories</td>\n",
       "    </tr>\n",
       "    <tr>\n",
       "      <th>1335</th>\n",
       "      <td>578</td>\n",
       "      <td>Home &gt; Pet Supplies &gt; Small Animal Supplies &gt; ...</td>\n",
       "      <td>Pet Care</td>\n",
       "      <td>Pet Accessories</td>\n",
       "    </tr>\n",
       "    <tr>\n",
       "      <th>1336</th>\n",
       "      <td>424</td>\n",
       "      <td>Home &gt; Pet Supplies &gt; Small Animal Supplies &gt; ...</td>\n",
       "      <td>Pet Care</td>\n",
       "      <td>Pet Accessories</td>\n",
       "    </tr>\n",
       "    <tr>\n",
       "      <th>1337</th>\n",
       "      <td>742</td>\n",
       "      <td>Home &gt; Pet Supplies &gt; Small Animal Supplies &gt; ...</td>\n",
       "      <td>Pet Care</td>\n",
       "      <td>Pet Accessories</td>\n",
       "    </tr>\n",
       "  </tbody>\n",
       "</table>\n",
       "<p>1312 rows × 4 columns</p>\n",
       "</div>"
      ],
      "text/plain": [
       "      index                                           category            L1  \\\n",
       "0        11  Home > Baby & Kids > Baby > Baby & Toddler Toy...  Baby & Child   \n",
       "1       227  Home > Baby & Kids > Baby > Baby & Toddler Toy...  Baby & Child   \n",
       "2        13  Home > Baby & Kids > Baby > Baby & Toddler Toy...  Baby & Child   \n",
       "3       416  Home > Baby & Kids > Baby > Baby & Toddler Toy...  Baby & Child   \n",
       "4       236  Home > Baby & Kids > Baby > Baby & Toddler Toy...  Baby & Child   \n",
       "...     ...                                                ...           ...   \n",
       "1333    431  Home > Pet Supplies > Small Animal Supplies > ...      Pet Care   \n",
       "1334    839  Home > Pet Supplies > Small Animal Supplies > ...      Pet Care   \n",
       "1335    578  Home > Pet Supplies > Small Animal Supplies > ...      Pet Care   \n",
       "1336    424  Home > Pet Supplies > Small Animal Supplies > ...      Pet Care   \n",
       "1337    742  Home > Pet Supplies > Small Animal Supplies > ...      Pet Care   \n",
       "\n",
       "                   L2  \n",
       "0                Toys  \n",
       "1                Toys  \n",
       "2                Toys  \n",
       "3                Toys  \n",
       "4                Toys  \n",
       "...               ...  \n",
       "1333  Pet Accessories  \n",
       "1334  Pet Accessories  \n",
       "1335  Pet Accessories  \n",
       "1336  Pet Accessories  \n",
       "1337  Pet Accessories  \n",
       "\n",
       "[1312 rows x 4 columns]"
      ]
     },
     "execution_count": 21,
     "metadata": {},
     "output_type": "execute_result"
    }
   ],
   "source": [
    "low_confidence_index = [915, 325, 652, 684, 514, 749, 355, 314, 992, 941, 517, 1240, 552, 604, 405, 1271, 877, 643, 970, 1030, 1252, 1191, 688, 700, 348, 278]\n",
    "\n",
    "remapping = remapping.loc[~remapping[\"index\"].isin(low_confidence_index), :]\n",
    "remapping"
   ]
  },
  {
   "cell_type": "code",
   "execution_count": 22,
   "metadata": {},
   "outputs": [
    {
     "data": {
      "text/plain": [
       "index       0\n",
       "category    0\n",
       "L1          0\n",
       "L2          0\n",
       "dtype: int64"
      ]
     },
     "execution_count": 22,
     "metadata": {},
     "output_type": "execute_result"
    }
   ],
   "source": [
    "remapping.isna().sum()"
   ]
  },
  {
   "cell_type": "code",
   "execution_count": 23,
   "metadata": {},
   "outputs": [],
   "source": [
    "def clean_string(string):\n",
    "    string = \" \".join(string.split(\" \"))\n",
    "    string = string.rstrip().lstrip()\n",
    "    return string"
   ]
  },
  {
   "cell_type": "code",
   "execution_count": 24,
   "metadata": {},
   "outputs": [
    {
     "data": {
      "text/plain": [
       "Index(['index', 'category', 'L1', 'L2'], dtype='object')"
      ]
     },
     "execution_count": 24,
     "metadata": {},
     "output_type": "execute_result"
    }
   ],
   "source": [
    "remapping.columns"
   ]
  },
  {
   "cell_type": "code",
   "execution_count": 25,
   "metadata": {},
   "outputs": [
    {
     "name": "stderr",
     "output_type": "stream",
     "text": [
      "/home/ubuntu/anaconda3/envs/pytorch_p36/lib/python3.6/site-packages/pandas/core/indexing.py:965: SettingWithCopyWarning: \n",
      "A value is trying to be set on a copy of a slice from a DataFrame.\n",
      "Try using .loc[row_indexer,col_indexer] = value instead\n",
      "\n",
      "See the caveats in the documentation: https://pandas.pydata.org/pandas-docs/stable/user_guide/indexing.html#returning-a-view-versus-a-copy\n",
      "  self.obj[item] = s\n"
     ]
    }
   ],
   "source": [
    "remapping.loc[:, \"L1\"] = remapping[\"L1\"].apply(clean_string)\n",
    "remapping.loc[:, \"L2\"] = remapping[\"L2\"].apply(clean_string)\n",
    "remapping.loc[:, \"category\"] = remapping[\"category\"].apply(clean_string)"
   ]
  },
  {
   "cell_type": "code",
   "execution_count": 26,
   "metadata": {},
   "outputs": [
    {
     "name": "stdout",
     "output_type": "stream",
     "text": [
      "0\n",
      "3\n",
      "3\n",
      "2\n",
      "171\n",
      "171\n"
     ]
    }
   ],
   "source": [
    "print(sum(remapping[\"L1\"] == \"MULTIMATCH\"))\n",
    "print(sum(remapping[\"L2\"] == \"MULTIMATCH\"))\n",
    "print(sum((remapping[[\"L1\", \"L2\"]] == \"MULTIMATCH\").any(1)))\n",
    "\n",
    "print(sum(remapping[\"L1\"] == \"OTHER\"))\n",
    "print(sum(remapping[\"L2\"] == \"OTHER\"))\n",
    "print(sum((remapping[[\"L1\", \"L2\"]] == \"OTHER\").any(1)))"
   ]
  },
  {
   "cell_type": "code",
   "execution_count": 27,
   "metadata": {},
   "outputs": [
    {
     "data": {
      "text/plain": [
       "1138"
      ]
     },
     "execution_count": 27,
     "metadata": {},
     "output_type": "execute_result"
    }
   ],
   "source": [
    "remapping = remapping[~(remapping[[\"L1\", \"L2\"]].isin([\"MULTIMATCH\", \"OTHER\"])).any(1)]\n",
    "len(remapping)"
   ]
  },
  {
   "cell_type": "code",
   "execution_count": 54,
   "metadata": {},
   "outputs": [],
   "source": [
    "category_mapping = {}\n",
    "for i, row in remapping.iterrows():\n",
    "    category_mapping[row[\"category\"]] = (row[\"L1\"], row[\"L2\"])"
   ]
  },
  {
   "cell_type": "code",
   "execution_count": 55,
   "metadata": {},
   "outputs": [],
   "source": [
    "def get_section_categories(section):\n",
    "    # last_parts = section.split(\">\")[-2:]\n",
    "    # key = \">\".join(section).lstrip().rstrip()\n",
    "    result = category_mapping.get(section.lstrip().rstrip(), (np.nan, np.nan))\n",
    "    return result"
   ]
  },
  {
   "cell_type": "code",
   "execution_count": 56,
   "metadata": {},
   "outputs": [
    {
     "data": {
      "text/plain": [
       "False"
      ]
     },
     "execution_count": 56,
     "metadata": {},
     "output_type": "execute_result"
    }
   ],
   "source": [
    "\"Home > Apparel > Clothing > Shirts & Tops > Polo Shirts \" in category_mapping"
   ]
  },
  {
   "cell_type": "code",
   "execution_count": 57,
   "metadata": {},
   "outputs": [
    {
     "data": {
      "text/html": [
       "<div>\n",
       "<style scoped>\n",
       "    .dataframe tbody tr th:only-of-type {\n",
       "        vertical-align: middle;\n",
       "    }\n",
       "\n",
       "    .dataframe tbody tr th {\n",
       "        vertical-align: top;\n",
       "    }\n",
       "\n",
       "    .dataframe thead th {\n",
       "        text-align: right;\n",
       "    }\n",
       "</style>\n",
       "<table border=\"1\" class=\"dataframe\">\n",
       "  <thead>\n",
       "    <tr style=\"text-align: right;\">\n",
       "      <th></th>\n",
       "      <th>id</th>\n",
       "      <th>title</th>\n",
       "      <th>description</th>\n",
       "      <th>category</th>\n",
       "      <th>images</th>\n",
       "      <th>seller</th>\n",
       "      <th>url</th>\n",
       "      <th>L1</th>\n",
       "      <th>L2</th>\n",
       "    </tr>\n",
       "  </thead>\n",
       "  <tbody>\n",
       "    <tr>\n",
       "      <th>0</th>\n",
       "      <td>600461809799217547</td>\n",
       "      <td>Safavieh Courtyard Area Rug CY2720 Natural / O...</td>\n",
       "      <td>Safavieh Courtyard 2' 3\" X 10' Indoor/outdoor ...</td>\n",
       "      <td>Home &gt; Home &amp; Garden &gt; Home Decor &gt; Rugs &amp; Doo...</td>\n",
       "      <td>['https://encrypted-tbn3.gstatic.com/shopping?...</td>\n",
       "      <td>Home Depot</td>\n",
       "      <td>https://www.google.com/shopping/product/600461...</td>\n",
       "      <td>NaN</td>\n",
       "      <td>NaN</td>\n",
       "    </tr>\n",
       "    <tr>\n",
       "      <th>1</th>\n",
       "      <td>5577337335524048579</td>\n",
       "      <td>Innerspace RV &amp; Truck Luxury Deluxe 8-inch Mem...</td>\n",
       "      <td>The MotorHome InnerSpace Luxury Deluxe 8 in. M...</td>\n",
       "      <td>Home &gt; Home &amp; Garden &gt; Bedding &amp; Bath &gt; Beddin...</td>\n",
       "      <td>['https://encrypted-tbn3.gstatic.com/shopping?...</td>\n",
       "      <td>Overstock.com</td>\n",
       "      <td>https://www.google.com/shopping/product/557733...</td>\n",
       "      <td>NaN</td>\n",
       "      <td>NaN</td>\n",
       "    </tr>\n",
       "    <tr>\n",
       "      <th>2</th>\n",
       "      <td>14258831033128011323</td>\n",
       "      <td>willstar10Pcs/set Natural Wooden Exercise Bell...</td>\n",
       "      <td>Specification: Material: natural wood Size: as...</td>\n",
       "      <td>Home &gt; Pet Supplies &gt; Small Animal Supplies &gt; ...</td>\n",
       "      <td>['https://encrypted-tbn3.gstatic.com/shopping?...</td>\n",
       "      <td>Walmart - Joybuy</td>\n",
       "      <td>https://www.google.com/shopping/product/142588...</td>\n",
       "      <td>Pet Care</td>\n",
       "      <td>Pet Accessories</td>\n",
       "    </tr>\n",
       "    <tr>\n",
       "      <th>3</th>\n",
       "      <td>7485254319593032123</td>\n",
       "      <td>Superior 300 Thread Count Combed Cotton Sateen...</td>\n",
       "      <td>Woven from 100% Premium Long-Staple Combed Cot...</td>\n",
       "      <td>Home &gt; Home &amp; Garden &gt; Bedding &amp; Bath &gt; Beddin...</td>\n",
       "      <td>['https://encrypted-tbn3.gstatic.com/shopping?...</td>\n",
       "      <td>Walmart - UnbeatableSale</td>\n",
       "      <td>https://www.google.com/shopping/product/748525...</td>\n",
       "      <td>NaN</td>\n",
       "      <td>NaN</td>\n",
       "    </tr>\n",
       "    <tr>\n",
       "      <th>4</th>\n",
       "      <td>11558129222548876322</td>\n",
       "      <td>Satco S5822 HID Metal Halide ED28</td>\n",
       "      <td>Get the perfect light with the ED28 EX39 Mogul...</td>\n",
       "      <td>Home &gt; Home &amp; Garden &gt; Lighting &gt; Lighting Par...</td>\n",
       "      <td>['https://encrypted-tbn3.gstatic.com/shopping?...</td>\n",
       "      <td>Topbulb</td>\n",
       "      <td>https://www.google.com/shopping/product/115581...</td>\n",
       "      <td>NaN</td>\n",
       "      <td>NaN</td>\n",
       "    </tr>\n",
       "  </tbody>\n",
       "</table>\n",
       "</div>"
      ],
      "text/plain": [
       "                     id                                              title  \\\n",
       "0    600461809799217547  Safavieh Courtyard Area Rug CY2720 Natural / O...   \n",
       "1   5577337335524048579  Innerspace RV & Truck Luxury Deluxe 8-inch Mem...   \n",
       "2  14258831033128011323  willstar10Pcs/set Natural Wooden Exercise Bell...   \n",
       "3   7485254319593032123  Superior 300 Thread Count Combed Cotton Sateen...   \n",
       "4  11558129222548876322                  Satco S5822 HID Metal Halide ED28   \n",
       "\n",
       "                                         description  \\\n",
       "0  Safavieh Courtyard 2' 3\" X 10' Indoor/outdoor ...   \n",
       "1  The MotorHome InnerSpace Luxury Deluxe 8 in. M...   \n",
       "2  Specification: Material: natural wood Size: as...   \n",
       "3  Woven from 100% Premium Long-Staple Combed Cot...   \n",
       "4  Get the perfect light with the ED28 EX39 Mogul...   \n",
       "\n",
       "                                            category  \\\n",
       "0  Home > Home & Garden > Home Decor > Rugs & Doo...   \n",
       "1  Home > Home & Garden > Bedding & Bath > Beddin...   \n",
       "2  Home > Pet Supplies > Small Animal Supplies > ...   \n",
       "3  Home > Home & Garden > Bedding & Bath > Beddin...   \n",
       "4  Home > Home & Garden > Lighting > Lighting Par...   \n",
       "\n",
       "                                              images  \\\n",
       "0  ['https://encrypted-tbn3.gstatic.com/shopping?...   \n",
       "1  ['https://encrypted-tbn3.gstatic.com/shopping?...   \n",
       "2  ['https://encrypted-tbn3.gstatic.com/shopping?...   \n",
       "3  ['https://encrypted-tbn3.gstatic.com/shopping?...   \n",
       "4  ['https://encrypted-tbn3.gstatic.com/shopping?...   \n",
       "\n",
       "                     seller  \\\n",
       "0                Home Depot   \n",
       "1             Overstock.com   \n",
       "2          Walmart - Joybuy   \n",
       "3  Walmart - UnbeatableSale   \n",
       "4                   Topbulb   \n",
       "\n",
       "                                                 url        L1  \\\n",
       "0  https://www.google.com/shopping/product/600461...       NaN   \n",
       "1  https://www.google.com/shopping/product/557733...       NaN   \n",
       "2  https://www.google.com/shopping/product/142588...  Pet Care   \n",
       "3  https://www.google.com/shopping/product/748525...       NaN   \n",
       "4  https://www.google.com/shopping/product/115581...       NaN   \n",
       "\n",
       "                L2  \n",
       "0              NaN  \n",
       "1              NaN  \n",
       "2  Pet Accessories  \n",
       "3              NaN  \n",
       "4              NaN  "
      ]
     },
     "execution_count": 57,
     "metadata": {},
     "output_type": "execute_result"
    }
   ],
   "source": [
    "df[\"L1\"] = df[\"category\"].apply(lambda x: get_section_categories(x)[0])\n",
    "df[\"L2\"] = df[\"category\"].apply(lambda x: get_section_categories(x)[1])\n",
    "df.head()"
   ]
  },
  {
   "cell_type": "code",
   "execution_count": 58,
   "metadata": {},
   "outputs": [
    {
     "data": {
      "text/plain": [
       "1321336"
      ]
     },
     "execution_count": 58,
     "metadata": {},
     "output_type": "execute_result"
    }
   ],
   "source": [
    "sum(pd.isnull(df[\"L1\"]))"
   ]
  },
  {
   "cell_type": "code",
   "execution_count": 63,
   "metadata": {},
   "outputs": [
    {
     "name": "stdout",
     "output_type": "stream",
     "text": [
      "                                                                                                                                                                             title                                                                                                                                                                                         category\n",
      "0                                                                                                                  Safavieh Courtyard Area Rug CY2720 Natural / Olive, 2' 3\" x 10'                                                                                                                        Home > Home & Garden > Home Decor > Rugs & Doormats > Rugs > Outdoor Rugs\n",
      "1                                                                                                           Innerspace RV & Truck Luxury Deluxe 8-inch Memory Foam Mattress, White                                                                                  Home > Home & Garden > Bedding & Bath > Bedding > Bedding Basics > Memory Foam Bedding > Memory Foam Mattresses\n",
      "2                                                                  willstar10Pcs/set Natural Wooden Exercise Bell Roller Toy Wooden Dumbbells Teeth Care Molar Toy Hamster Toy Set                                                                                        Home > Pet Supplies > Small Animal Supplies > Small Animal Toys & Habitat Accessories > Small Animal Toys\n",
      "3                                                                                       Superior 300 Thread Count Combed Cotton Sateen Stripe 15-inch Drop Bedskirt (White - King)                                                                                                                     Home > Home & Garden > Bedding & Bath > Bedding > Bedding Basics > Bedskirts\n",
      "4                                                                                                                                                Satco S5822 HID Metal Halide ED28                                                                                           Home > Home & Garden > Lighting > Lighting Parts & Accessories > Light Bulbs > Fluorescent & CFL Bulbs\n",
      "5                                                                                                                                   Disney's Coco Microphone and Amplifier - Black                                                                                                                                Home > Baby & Kids > Kids > Kids' Electronics > Kids' Microphones\n",
      "6                                                                                                                                    L'Occitane Rose Eau De Toilette 1.6fl.oz/50ml                                                                                                                         Home > Health & Beauty > Fragrance > Women's Fragrance > Women's Perfume\n",
      "7                                                                                                                                ACTi B943 Outdoor Speed Dome with D/n,extreme WDR                                                                    Home > Home & Garden > Business & Home Security > Security Systems & Components > Security Cameras > Outdoor Security Cameras\n",
      "8                                                                                                                           Boys' Sonic 4pk Boxer Briefs - 10, Boy's, Multicolored                                                                                                              Home > Apparel > Kids' Apparel > Kids' Clothing > Kids' Underwear > Boys' Underwear\n",
      "9                                                                                                                Guardian G1806, Right Hand Deck Mounting 90 Degree Swivel Eyewash                                                                                               Home > Health & Beauty > Health & Wellness > Medicines & Treatments > First Aid > Eyewash Stations\n",
      "10                                                                                                                                 Salomon Women's x Access 60 Wide Ski Boots 2020                                                                                                        Home > Sports & Outdoors > Snow & Winter Sports > Skiing > Ski Apparel & Gear > Ski Boots\n",
      "11                                                                                                           Erazor Bits -United We Stand - Set of 2 Large Tankards 25oz Drinkware                                                                                               Home > Home & Garden > Kitchen & Dining > Drinkware > Beer, Wine & Cocktail Glasses > Beer Glasses\n",
      "12                                                                                                                 Vena Autumn Burst Small Round Baker with Handles Polish Pottery                                                                                                         Home > Home & Garden > Kitchen & Dining > Cookware & Bakeware > Bakeware > Baking Dishes\n",
      "13                                                                                                                                              Mentholatum Ointment Jar Size 1 oz                                                                      Home > Health & Beauty > Health & Wellness > Medicines & Treatments > Pain Relief & Management > Muscle & Joint Pain Relief\n",
      "14                                                                                                                                       NRS Men's Farmer Bill Wetsuit, Black, 2XL                                                                         Home > Sports & Outdoors > Swim, Boating & Water Sports > Water Sport Apparel & Gear > Wetsuits & Accessories > Wetsuits\n",
      "15                                                                                                                       Nothing But Mold & Hold Wax 8.8 oz - Pack of 1 - SOFNFREE                                                                                           Home > Health & Beauty > Hair Care & Grooming > Hair Care > Hair Styling Products > Hair Pomades & Wax\n",
      "16                                                                                                             Disney Kids Incredibles 2 Red Nylon Band Time Teacher Watch XWA5838                                                                                                     Home > Apparel > Kids' Apparel > Kids' Accessories > Kids' Jewelry & Watches > Kids' Watches\n",
      "17                                                                                                                                                   Spode Blue Italian Chip & Dip                                                                                                                         Home > Home & Garden > Kitchen & Dining > Serveware > Chip & Dip Servers\n",
      "18                                                                                                                                               Cascade Eco Alpaca - 1510 Natural                                                                                                             Home > Arts, Crafts & Party Supplies > Crafts & Hobbies > Yarn & Needlecrafts > Yarn\n",
      "19                                                                               AW Rolling Makeup Case with LED Light Mirror Adjustable Legs Lockable Train Table Studio Cosmetic                                                                                                            Home > Health & Beauty > Makeup > Makeup Tools & Accessories > Makeup & Toiletry Bags\n",
      "20                                                                                                                                      Football Standard Regulation Size 10\" 3372                                                                                                                        Home > Sports & Outdoors > Athletics & Team Sports > Football > Footballs\n",
      "21                                                                                                                                  Delta H716 Victorian Chrome Metal Lever Handle                                                                                     Home > Home Improvement & Tools > Plumbing Supplies > Plumbing Parts & Repair Kits > Faucet Handles & Valves\n",
      "22                                                                                                               Round Apron Farmhouse Sink White Grade A Porcelain Includes Drain                                                                                             Home > Home Improvement & Tools > Kitchen Home Improvement > Kitchen Sinks > Farmhouse Kitchen Sinks\n",
      "23                                                                                                                              Vim Tools VHC77 '77-Piece' Half Cut Stubby Bit Set                                                                                                                    Home > Home Improvement & Tools > Tools > Power Tool Accessories > Drill Bits\n",
      "24                                                                                                                                   Mitutoyo - 12AAC731 - Stylus, Standard Stylus                                                                           Home > Electronics > Computers, Tablets & Accessories > Tablets, E-Readers & Mobile > Tablet Accessories > Stylus Pens\n",
      "25                                                                                                                                Honda 2007-2012 CB Duct Attachment 17370-MFJ-D01                                                                                                       Home > Electronics > Cell Phones & Accessories > Cell Phone Accessories > Cell Phone Parts\n",
      "26                                                                                                    Institut Dermed Clinical Skincare - Enhancing Neck & Decollete Cream - 50 ml                                                                                     Home > Health & Beauty > Men's Personal Care & Grooming > Men's Body & Skin Care > Men's Facial Moisturizers\n",
      "27                                                                                               Patagonia Capilene Cool Daily Graphic Shirt Women's (Boardie Badge: Feather Grey)                                                                                                                  Home > Apparel > Women's Apparel > Women's Activewear > Women's Athletic Shirts\n",
      "28                                                                                                                                    Under Armour Men's Tech Polo - Midnight Navy                                                                                                                        Home > Apparel > Men's Apparel > Men's Activewear > Men's Athletic Shirts\n",
      "29                                                                                                                            Wavebuilder Ripple Cream Wave Wax 5.4 oz - Pack of 1                                                                                           Home > Health & Beauty > Hair Care & Grooming > Hair Care > Hair Styling Products > Hair Pomades & Wax\n",
      "30                                                                                                                          Bush Business Series C 72\" Bowfront Desk with Pedestal                                                                                                                       Home > Home & Garden > Furniture > Office Furniture > Desks > Corner Desks\n",
      "31                                                                                                   Q Power Qbomb Single 10\" Vented Port Subwoofer Box w/ Bedliner Spray (2 Pack)                                                                                        Home > Electronics > Audio > Audio Accessories & Cables > Speaker Accessories > Speaker Components & Kits\n",
      "32                                                                               Sterling 71040116-0 Performa Bath and Shower Kit, 60-Inch x 29-inch x 75.5-Inch, Left-Hand, White                                                                                         Home > Home Improvement & Tools > Bathroom Home Improvement > Bathtubs, Showers & Hardware > Shower Kits\n",
      "33                                                                                                                             Agfa 72mm 0.43x Super Macro Wide Angle Lens APWAG72                                                                            Home > Electronics > Cameras & Optics > Camera Accessories > Camera Lens Accessories > Teleconverters & Add-on Lenses\n",
      "34                                                                                                                                    Ties Suck Tie by Wild Ties - Blue Microfiber                                                                                                                                  Home > Apparel > Men's Apparel > Men's Accessories > Men's Ties\n",
      "35                                                                                                                                   Deuter Aircontact Lite 60 + 10 SL Arctic-Navy                                                                                                               Home > Travel, Luggage & Bags > Bags, Packs & Totes > Backpacks > Hiking Backpacks\n",
      "36                                                                                                                                                   SmartBones Smart Twist Sticks                                                                                               Home > Pet Supplies > Dog Supplies > Dog Food & Treats > Dog Treats & Chews > Dog Bones & Rawhides\n",
      "37                                                                                                                          Winco Bread/Fruit Basket, Rectangular Black | (WBKG-9)                                                                                                                            Home > Home & Garden > Home Decor > Home Accents > Decorative Baskets\n",
      "38                                                                                                                                     Tamiya 1/35 German 75mm Anti-Tank Gun 35047                                                                                   Home > Arts, Crafts & Party Supplies > Crafts & Hobbies > Scale Models, Trains & Miniatures > Scale Model Kits\n",
      "39                                                     Collections Etc. Long Cotton Sleeveless Nightgown Pajama with Floral Embroidery & Pintuck Bodice, Women's, Size: XL, Purple                                                                                         Home > Apparel > Women's Apparel > Women's Clothing > Women's Sleepwear & Intimates > Women's Nightgowns\n",
      "40                                                                                                Leveret Mens Pajamas Gorilla 2 Piece Pajama Set 100% Cotton Size XX-Large, Men's                                                                                                                Home > Apparel > Men's Apparel > Men's Clothing > Men's Sleepwear > Men's Pajamas\n",
      "41                                                                                                                                                  prAna: Women's Transform Capri                                                                                                                                                   Home > Apparel > Clothing > Pants > Yoga Pants\n",
      "42                                                                                                                                                       DC Rainmaker Water Bottle                                                                                                                              Home > Home & Garden > Kitchen & Dining > Drinkware > Water Bottles\n",
      "43                                                                                                                                                          NBA 2K19 [Switch Game]                                                                                               Home > Electronics > TVs & Entertainment > Gaming > Gaming by Platform > Nintendo > Nintendo Games\n",
      "44                                                                                                                     Brybelly Mbag-101 Happy Halloween Canvas Trick or Treat Bag                                                                                             Home > Home & Garden > Home Decor > Holiday & Seasonal Decor > Halloween Decor > Trick or Treat Bags\n",
      "45                                                                                                                   VonZipper Satellite 2019 Goggles Charcoal Satin Wild Blackout                                                                                                     Home > Sports & Outdoors > Snow & Winter Sports > Skiing > Ski Apparel & Gear > Snow Goggles\n",
      "46                                                                                                                  Prime Wire & Cable 3-Outlet Slim Style USB Charger Pbslusb343s                                                                       Home > Electronics > Computers, Tablets & Accessories > Tablets, E-Readers & Mobile > Tablet Accessories > Tablet Chargers\n",
      "47                                                                                                                        Swing Set Stuff Inc. Light Duty Tire Swivel Kit (Yellow)                                                                                         Home > Toys & Games > Outdoor Play > Swing Sets & Playground Equipment > Swing Set & Playset Accessories\n",
      "48                                                                                                        Imagination Starters Chalkboard Placemats 12\"X17\" 4/Pkg-Black - Learning                                                                                                                     Home > Home & Garden > Kitchen & Dining > Kitchen & Table Linens > Placemats\n",
      "49                                                                                      Rotor Clip TI-150SS 1.5 in. Diameter Stainless Steel Self - Locking Internal RingPack of 5                                                                    Home > Home Improvement & Tools > Building Supplies, Fasteners & Hardware > Hardware Fasteners > Hardware Pins, Clips & Rings\n",
      "50                                                                                                     Ruckus 901-R610-US00 ZoneFlex R610 Dual Band 802.11ac Wireless Access Point                                                                                               Home > Electronics > Computers, Tablets & Accessories > WiFi & Networking > Wireless Access Points\n",
      "51                                                                                                                Summit FF1512SSIM 28\" Top Freezer Refrigerator with 12.6 Cu. ft.                                                                    Home > Home & Garden > Appliances > Kitchen Appliances > Major Kitchen Appliances > Refrigerators > Top Freezer Refrigerators\n",
      "52                                                                                                                          Safer Brand Snake Shield Snake Repellent Granular 4 lb                                                                                         Home > Home & Garden > Lawn & Garden > Insect & Pest Control > Animal Pest Control > Wildlife Repellents\n",
      "53                                                                                                                                       Ave Six Laguna Loveseat - Graphite Velvet                                                                                                    Home > Home & Garden > Furniture > Living Room Furniture > Sofas & Sectionals > Sleeper Sofas\n",
      "54                                                                                                                                     RAB Ezpanhe2X4-46/D10 46-Watt Light Fixture                                                                                               Home > Home Improvement & Tools > Light Fixtures & Ceiling Fans > Ceiling Lights > Recessed Lights\n",
      "55                                                                                                                                    Boraam Brookville 3-Piece Folding Bistro Set                                                                                                                Home > Home & Garden > Furniture > Kitchen & Dining Furniture > Pub & Bistro Sets\n",
      "56                                                                                                                     British Drum Company Legend Fusion 4pc Drum Set Whitechapel                                                                                                    Home > Musical Instruments > Drums & Percussion > Drums > Acoustic Drums > Acoustic Drum Sets\n",
      "57                                                                                                               Dermablend Makeup Dissolver Face & Body Makeup Remover 3.4 fl. oz                                                                                                                    Home > Health & Beauty > Makeup > Makeup Tools & Accessories > Makeup Remover\n",
      "58                                                                                                                                                     B.O.C. Emily 880282T Silver                                                                                                 Home > Apparel > Baby & Toddler Apparel > Toddler Shoes > Toddler Sandals > Toddler Girl Sandals\n",
      "59                                                                                                                      Victorinox Boning Knife with Semi Stiff, Curved, 5\", Black                                                                                                 Home > Home & Garden > Kitchen & Dining > Kitchen Knives & Accessories > Cleaver & Boning Knives\n",
      "60                                                                 Nikon ML-L3 Wireless Remote Control Bundle with 3 x Spare Battery + 2-In 1 Lens Cleaning Pen + Fibertique Cloth                                                                                                              Home > Electronics > Cameras & Optics > Camera Accessories > Camera Remote Controls\n",
      "61                                                                                                                         Adidas Yeezy Boost 350 V2 'Lundmark '- Fu9161 - Size 14                                                                                                                                                                Home > Apparel > Shoes > Sneakers\n",
      "62                                                                                                                                         04081-00098900 Asus Webcam Q505UA-BI5T7                                                                                                   Home > Electronics > Computers, Tablets & Accessories > Computer Accessories & Parts > Webcams\n",
      "63                                                                                                                                              Clarks Ashland Lily 9 Women's Navy                                                                                                                                                          Home > Apparel > Shoes > Heels & Wedges\n",
      "64                                                                                                                  Port Authority L5001 Ladies Silk Touch Y-Neck Polo - Royal - L                                                                                                                                          Home > Apparel > Clothing > Shirts & Tops > Polo Shirts\n",
      "65                                                                                                                Bulksupplements Pure Acai Berry 4:1 Extract Powder (5 Kilograms)                                                                      Home > Health & Beauty > Health & Wellness > Vitamins & Nutrition > Vitamins & Supplements > Greens & Superfood Supplements\n",
      "66                                                                                                                                      Kala KA-15C Concert Satin Mahogany Ukulele                                                                                       Home > Musical Instruments > Folk & World Musical Instruments > Folk & World String Instruments > Ukuleles\n",
      "67                                                                                                               KMC E101 E-Bike Chain - Single Speed 1/2\" x 1/8\" 112 Links Silver                                                                                              Home > Sports & Outdoors > Cycling > Bike Parts & Maintenance > Bike Drivetrain Parts > Bike Chains\n",
      "68                                                                                                                   Retro Pomeranian Icon Dog Silhouette Infant / Toddler T-Shirt                                                                                                           Home > Apparel > Baby & Toddler Apparel > Baby Clothing > Baby Tops > Baby Unisex Tops\n",
      "69                                                                                                                          Hillhouse Naturals Reed Diffuser 8 oz. - Pheasant Hill                                                                                                                             Home > Home & Garden > Home Decor > Home Fragrances > Reed Diffusers\n",
      "70                                                                                                                                                       Satco S2200 Halogen PAR16                                                                                               Home > Home & Garden > Lighting > Lighting Parts & Accessories > Light Bulbs > Halogen Light Bulbs\n",
      "71                                                                                                                        Every Strand Simply Curls Curling Creme Ar22 004167 15oz                                                                                          Home > Health & Beauty > Hair Care & Grooming > Hair Care > Hair Styling Products > Hair Styling Creams\n",
      "72                                                                                                                                    4M Spy Science Build Your Own Money Safe Kit                                                                                                     Home > Toys & Games > Toys > Learning Toys > Science & Discovery Toys > Detective & Spy Toys\n",
      "73                                                                                                      Abstract Silver Stains Indigo | Canvas Wall Art | 40x30 | Great Big Canvas                                                                                                                                Home > Home & Garden > Home Decor > Wall Art & Decor > Art Prints\n",
      "74                                                                                                                                    Cyan Design Bird on A Wire Sculpture - Large                                                                                                                 Home > Home & Garden > Home Decor > Wall Art & Decor > Wall Art > Metal Wall Art\n",
      "75                                                                                                                             Vertically Driven Products 3520 on The Go Organizer                                                                                                       Home > Automotive > Vehicle Storage & Cargo > Vehicle Organizers > Vehicle Seat Organizers\n",
      "76                                                                                                              Bought It Now Silly Putty Crayola Original Kids Toy Boys and Girls                                                                                                 Home > Arts, Crafts & Party Supplies > Kids' Arts & Crafts > Playdough, Foam & Sand > Play Putty\n",
      "77                                                                                                                                       Fasade 4-Foot J-Trim Bermuda Bronze, Gold                                                                       Home > Home Improvement & Tools > Building Supplies, Fasteners & Hardware > Building Materials > Tile > Accent & Trim Tile\n",
      "78                                                                                                                                    Attractive Wood Leather Aluminum Table Clock                                                                                                                            Home > Home & Garden > Home Decor > Clocks > Mantel & Tabletop Clocks\n",
      "79                                                                                                                RiverRidge Home Ellsworth Floor Cabinet with Side Shelves, White                                                                                                             Home > Home & Garden > Storage & Organization > Storage Furniture > Storage Cabinets\n",
      "80                                                                                                              Mitzi - H351501-AGB/WH Lauryn Aged Brass/White 1 Light Flush Mount                                                                                            Home > Home Improvement & Tools > Light Fixtures & Ceiling Fans > Ceiling Lights > Flush Mount Lights\n",
      "81                                                                                                                                                 Pacon (5 PK) Tru Ray 12x18 Gold                                                                                                                  Home > Arts, Crafts & Party Supplies > Kids' Arts & Crafts > Construction Paper\n",
      "82                                                                                                              Mous - Contour Case for Apple iPhone 11 Pro Max - Speckled Leather                                                                                                       Home > Electronics > Cell Phones & Accessories > Cell Phone Accessories > Cell Phone Cases\n",
      "83                                                                                                                                             Mirage Hu2002 BB Clarinet with Case                                                                                                                             Home > Musical Instruments > Wind & Woodwind Instruments > Clarinets\n",
      "84                                                                                                        Bird Barrier Bird Repellent, Weight: 1 lb, Used for Bird Control DD-8000                                                                                         Home > Home & Garden > Lawn & Garden > Insect & Pest Control > Animal Pest Control > Wildlife Repellents\n",
      "85                                                                                                                 Colonial Mills Botanical Isle BI50 Oasis Blue 3' Round Area Rug                                                                                                            Home > Home & Garden > Home Decor > Nursery & Kids' Room Decor > Nursery & Kids' Rugs\n",
      "86                                                                                                                              Fire Magic 53830-SW 30 in. Electric Warming Drawer                                                                             Home > Home & Garden > Appliances > Kitchen Appliances > Major Kitchen Appliances > Wall Ovens > Electric Wall Ovens\n",
      "87                                                                                                Schlage Camelot Touch Screen Electronic Keypad Deadbolt with Alarm, Bright Brass                                                                                                                     Home > Home Improvement & Tools > Smart Home & Automation > Smart Door Locks\n",
      "88                                               ThermoPro TP09B Electric Wireless Remote Digital Food Cooking Meat BBQ Grill Oven Smoker Thermometer / Timer, 300 Feet Range TP09                                                                            Home > Home & Garden > Kitchen & Dining > Kitchen Utensils & Gadgets > Essential Kitchen Tools > Cooking Thermometers\n",
      "89                                                                                                                                         Boston Gear NF16 B Gear, Spur, 10 Pitch                                                                                                                            Home > Sports & Outdoors > Equestrian > Riding Apparel & Gear > Spurs\n",
      "90                                                                                                                                      Nike Training Shorts - Boys' S Grey/ Black                                                                                                Home > Apparel > Kids' Apparel > Kids' Activewear > Kids' Athletic Shorts > Boys' Athletic Shorts\n",
      "91                                                                                                              WS Bath Collections Laundry Basket with Bag in Orange, Size: Large                                                                                                           Home > Household Supplies > Laundry Care > Laundry Baskets & Sorters > Laundry Baskets\n",
      "92                                                                                                                               Vionic Bella II Women's Sandals Gold Cork : 6.5 M                                                                                                                               Home > Apparel > Women's Apparel > Women's Shoes > Women's Sandals\n",
      "93                                                                                                                                              Calico Critters Creamy Gelato Shop                                                                                                                            Home > Toys & Games > Toys > Action Figures & Playsets > Toy Playsets\n",
      "94                                                                                                                     Summit 10.1 CU.FT. Auto Defrost All-refrigerator FFAR10SSTB                                                                  Home > Home & Garden > Appliances > Kitchen Appliances > Major Kitchen Appliances > Refrigerators > Counter Depth Refrigerators\n",
      "95                                                                                                                           Plantronics Rig 400 Pro Gaming Headset Charger Bundle                                                                                                  Home > Electronics > Audio > Speakers, Headphones & Headsets > Headphones > Over-Ear Headphones\n",
      "96                                                                                                           23\" x 2\" x 23\" Turquoise Copper Bronze Metal Medium Flower Wall Decor                                                                                                                 Home > Home & Garden > Home Decor > Wall Art & Decor > Wall Art > Metal Wall Art\n",
      "97                                                                                                                             GameOver Cutting Board - Tools Set- Bamboo GA113318                                                                                                                     Home > Home & Garden > Kitchen & Dining > Serveware > Cheese Boards & Knives\n",
      "98                                                                                                                              Billabong Fifty50 Layback Boardshorts CIS-Citrus L                                                                                                                                              Home > Apparel > Clothing > Swimwear > Board Shorts\n",
      "99                                                                                                                                              Scanpan IQ - 11\" Covered Saute Pan                                                                                                            Home > Home & Garden > Kitchen & Dining > Cookware & Bakeware > Cookware > Sauté Pans\n",
      "100                                                                                                            Nike USMNT Youth Red Therma Performance Pullover Hoodie Size: Small                                                                                                                    Home > Apparel > Kids' Apparel > Kids' Clothing > Kids' Sweatshirts & Hoodies\n",
      "101                                                                                                                                   Tsunami Stainless Steel Round Bend Snaps - 2                                                                          Home > Sports & Outdoors > Camping & Outdoors > Hunting & Fishing > Fishing > Terminal Tackle > Fishing Snaps & Swivels\n",
      "102                                                                                                                Western Chief Women's Solid Vari Fit Rain Boot, Size: 10, Black                                                                                                                                                      Home > Apparel > Shoes > Boots > Rain Boots\n",
      "103                                                                                                                   Kate and Laurel McNeer Large Hexagon Metal Wall Mirror, Gold                                                                                                                         Home > Home & Garden > Furniture > Bathroom Furniture > Bathroom Mirrors\n",
      "104                                                                                                     Wedding Star 9135 Metal Leaf Shaped Card Holders with Autumn Bronze Finish                                                              Home > Arts, Crafts & Party Supplies > Party & Special Occasion > Party Supplies > Party Serveware & Tableware > Food & Table Signs\n",
      "105                                                                                                                        Deltana BTC20U10B Ball Tension Catch, Oil Rubbed Bronze                                              Home > Home Improvement & Tools > Building Supplies, Fasteners & Hardware > Home Improvement Hardware > Cabinet & Drawer Hardware > Cabinet Catches\n",
      "106                                                                                                                 Pivot Power - Flexible 6 Outlet Surge Protector Green SO949052                                                                                                                                            Home > Electronics > Batteries & Power > Power Strips\n",
      "107                                                                                           Men's Stainless Steel Brushed 9mm Link Bracelet, 8 inch by The Black Bow Jewelry Co.                                                                                                 Home > Apparel > Men's Apparel > Men's Accessories > Men's Jewelry & Cufflinks > Men's Bracelets\n",
      "108                                                                                                         Tycon Systems TP-POE-HP-48DX2 110/220VAC in, QTY 2 25W 802.3af/at Port                                                                    Home > Electronics > Computers, Tablets & Accessories > WiFi & Networking > Networking Accessories > PoE & Powerline Adapters\n",
      "109                                                                                           Total Micro Notebook Battery for Dell Latitude E4300/E4310/E4310 N-Series - 5800 mAh                                                                     Home > Electronics > Computers, Tablets & Accessories > Computer Accessories & Parts > Laptop Accessories > Laptop Batteries\n",
      "110                                                                  Omnihil Replacement Wall and Car Charger w/ USB Cable for Aukey Magnetic Wireless Earbuds EP-B60 Power Supply                                                                                                           Home > Electronics > Batteries & Power > Power Adapters & Chargers > Wireless Chargers\n",
      "111                                                                                                           Hayward AX6000FCBK Black Bag Float Closure Assembly for Pool Cleaner                                                                                Home > Home & Garden > Lawn & Garden > Pools, Hot Tubs & Saunas > Pool & Hot Tub Parts & Accessories > Pool Hoses\n",
      "112                                                                                                                        Iflicker Candle, LED Wax, Warm White Flicker, Unscented                                                                                                          Home > Home & Garden > Home Decor > Candles & Accessories > Candles > Flameless Candles\n",
      "113                                                                                                                        Jack Black Dragon Ice Relief & Recovery Balm, 4 fl. oz.                                                                      Home > Health & Beauty > Health & Wellness > Medicines & Treatments > Pain Relief & Management > Muscle & Joint Pain Relief\n",
      "114                                                                                                               Rosidal K Short Stretch Bandage - Individual Rolls (12 cm x 5 M)                                                                                  Home > Health & Beauty > Health & Wellness > Medicines & Treatments > Supports & Braces > Elastic Bandage Wraps\n",
      "115                                                                                                                          Mustad C53S / C53snp Signature Nymph Dry Fly Hooks 12                                                                                    Home > Sports & Outdoors > Camping & Outdoors > Hunting & Fishing > Fishing > Terminal Tackle > Fishing Hooks\n",
      "116                                                                                                                                             Otis Flugz 21dB Hearing Protection                                                                                                           Home > Home Improvement & Tools > Tools > Work Safety Gear > Safety Hearing Protection\n",
      "117                                                                                                           PFERD 11145 Soft Grip File Handle for 8\"-10\" Files - Narrow Shoulder                                                                                                                                     Home > Home Improvement & Tools > Tools > Hand Tools > Files\n",
      "118                                                                                                              Savoy House - 1-308-8-322 Middleton Warm Brass 8 Light Chandelier                                                                                         Home > Home Improvement & Tools > Light Fixtures & Ceiling Fans > Chandeliers > Candle Style Chandeliers\n",
      "119                                                                                                                                          Samsung Give Your Desktop Comp, White                                                                                             Home > Electronics > Computers, Tablets & Accessories > Computer Monitors > Curved Computer Monitors\n",
      "120                                                                                                      HighVizibility Ladies' Reflective Air Waistcoat - Please Pass Wide & Slow                                                                                                                        Home > Home Improvement & Tools > Tools > Work Safety Gear > Safety Vests\n",
      "121                                                                                                                                  eLuxury Square Floor Cushion, Mckittrick Mist                                                                                                   Home > Home & Garden > Home Decor > Nursery & Kids' Room Decor > Nursery & Kids' Throw Pillows\n",
      "122                                                                                                          Durham Mfg 111-17-S1158 Compartment Box, 18-1/8 in W, 3-1/4 in H, Red                                                                                  Home > Home & Garden > Storage & Organization > Storage & Organization Essentials > Cabinet & Drawer Organizers\n",
      "123                                                                                                                                                  C2G 35 ft VGA extension cable                                                               Home > Electronics > Computers, Tablets & Accessories > Computer Accessories & Parts > Cables, Adapters & Accessories > VGA Cables\n",
      "124                                                                                                                                   Vionic Gracie Plush (Black) Women's Slippers                                                                                           Home > Apparel > Women's Apparel > Women's Clothing > Women's Sleepwear & Intimates > Women's Slippers\n",
      "125                                                                                                                                                    Satco S2444 Halogen Torpedo                                                                                               Home > Home & Garden > Lighting > Lighting Parts & Accessories > Light Bulbs > Halogen Light Bulbs\n",
      "126                                                                                           Christmas at Winterland BAT-70MMRE-4G Battery Operated Light String with 70 Coni Red                                              Home > Home & Garden > Home Decor > Holiday & Seasonal Decor > Christmas & Holiday Decor > Outdoor Christmas Decorations > Outdoor Christmas Lights\n",
      "127                                                                                               Nady Dw-22-lt-any Dual-Transmitter Digital Wireless Microphone System (2 Digital                                                                                      Home > Electronics > Audio > Pro Audio Equipment > Studio Recording > Audio Recording & Performance Bundles\n",
      "128                                                                                                                       Mega Bloks Spin 'N Play Spinning Garage Playset EZ133116                                                                                                                           Home > Toys & Games > Toys > Play Vehicles > Vehicle Playsets & Tracks\n",
      "129                                                                                                                                         You & Me Round Cat Condo, Large, Brown                                                                                                            Home > Pet Supplies > Cat Supplies > Cat Beds & Furniture > Cat Furniture > Cat Trees\n",
      "130                                                                                                        Blue Acrylic Faux Fur Bucket Bag with Adjustable Shoulder Strap Handbag                                                                                                                                 Home > Apparel > Handbags & Accessories > Handbags > Bucket Bags\n",
      "131                   Gold Graph Paper Composition Notebook: Quad Ruled / 4 Squares Per Inch / Blank Graphing Paper Notebook / Large 8. 5 X 11 / Soft Cover Bound Composition Book                                                                   Home > Office & School Supplies > Office Supplies > Office Paper Products > Notebooks & Notepads > Spiral & Wireless Notebooks\n",
      "132                                                                                                                                      Agua Brava Eau De Cologne by Antonio Puig                                                                                                                                                     Home > Health & Beauty > Fragrance > Cologne\n",
      "133                                                                                                                                                  Tennessee Volunteers Car Flag                                                                                                           Home > Automotive > Vehicle Accessories > Vehicle Exterior Accessories > Vehicle Flags\n",
      "134                                                                                                               NewestEdition SD-ORING-C3L 12 Piece Shower Curtain O-Ring, Clear                                                                                        Home > Home & Garden > Bedding & Bath > Bath & Shower > Shower Accessories > Shower Curtain Hooks & Rings\n",
      "135                                                                                                                                                            Lenox Tubing Cutter                                                                                                  Home > Home Improvement & Tools > Tools > Hand Tools > Hand Saws & Cutting Tools > Pipe Cutters\n",
      "136                                                                                                                                          Ariat Probaby Boots - Driftwood Brown                                                                                                          Home > Sports & Outdoors > Equestrian > Riding Apparel & Gear > Equestrian Riding Boots\n",
      "137                                                                                                                     Harris KH1043 Spclty Gas Reg, Cylinder, AR, HE, N, CGA-580                                                                                        Home > Home Improvement & Tools > Tools > Welding & Soldering Tools > Welding & Plasma Cutter Accessories\n",
      "138                                                                                                                                           Fram CF10373 Breeze Cabin Air Filter                                                                                                   Home > Automotive > Vehicle Parts & Repair > Vehicle A/C & Heating > Vehicle Cabin Air Filters\n",
      "139                                                                                                                                     World Tech Toys 33711 Batman IR Helicopter                                                                                                                   Home > Electronics > Drones, RC & Electronic Toys > Remote Control Helicopters\n",
      "140                                                                                                                           Safavieh Chatham Dark Grey & Ivory 7' x 7' Round Rug                                                                                                                           Home > Home & Garden > Home Decor > Rugs & Doormats > Rugs > Area Rugs\n",
      "141                                                                                                                                                Disney Infinity Power Disc Pack                                                                                             Home > Electronics > TVs & Entertainment > Gaming > Gaming Accessories > Video Game Figures & Tokens\n",
      "142                                                                                                         for IBM Lenovo IdeaPad S405 59351953 14.0\" Wxga HD Slim Screen LCD LED                                   Home > Electronics > Computers, Tablets & Accessories > Computer Accessories & Parts > Laptop Accessories > Laptop Parts > Laptop Screens & Display Assemblies\n",
      "143                                                                                                                                             J7261 Microfiber UV Sun Hat, Beige                                                                                                                            Home > Apparel > Women's Apparel > Women's Accessories > Women's Hats\n",
      "144                                                                                                                           Conservas Cambados Premium Mussels in Galician Sauce                                                                                                                 Home > Grocery > Canned & Packaged Food > Canned Meat & Seafood > Canned Seafood\n",
      "145                                                                                                                                Wincraft, Alabama Crimson Tide 15\" Waste Basket                                                                                                                      Home > Home & Garden > Trash & Recycling > Trash Cans > Bathroom Trash Cans\n",
      "146                                                                                                                              FunkoFive Nights at Freddy's Chica Plush Doll, 6\"                                                                                                                      Home > Toys & Games > Toys > Stuffed Animals & Plush Toys > Stuffed Animals\n",
      "147                                                                                                                        Flash Furniture High Back Executive Office Chair, Black                                                                                                   Home > Home & Garden > Furniture > Office Furniture > Folding Tables & Chairs > Folding Chairs\n",
      "148                                                                                               3 PC Multi Purpose Microfiber Cloth Cleaning Rag Window Cleaner Towel Car Detail                                                                                              Home > Automotive > Vehicle Care & Maintenance > Vehicle Detailing & Cleaning > Car Cleaning Cloths\n",
      "149                                                                                                            Midnight Romance by Ralph Lauren Eau De Parfum Spray 3.4 oz (Women)                                                                                                     Home > Health & Beauty > Fragrance > Women's Fragrance > Women's Rollerballs & Travel Sprays\n",
      "150                                                                                                                              Michael Jackson Red Thriller Jacket Child Costume                                                                     Home > Arts, Crafts & Party Supplies > Party & Special Occasion > Costumes & Costume Accessories > Costumes > Kids' Costumes\n",
      "151                                                                                                           Rourlinge Rotating Rotation Fancy World Baby Toy Kids Autism Kid Toy                                                                                                               Home > Baby & Kids > Baby > Baby & Toddler Toys > Baby Learning & Development Toys\n",
      "152                                                                                                                                                     Corona HS 4244 Hedge Shear                                                                                      Home > Home & Garden > Lawn & Garden > Gardening & Landscaping > Gardening Tools > Pruning Shears & Loppers\n",
      "153                                            StarTech.com Replacement PS/2 Keyboard to USB Adapter - F/M - Keyboard adapter - PS/2 (F) to USB (M) - GC46MFKEY - keyboard adapter         Home > Electronics > Computers, Tablets & Accessories > Computer Accessories & Parts > Cables, Adapters & Accessories > Cable Adapters, Splitters & Switches > Cable Adapters & Couplers\n",
      "154                                                                                                                                American Hunter BL-EC6 6V Economy Solar Charger                                                                                 Home > Sports & Outdoors > Camping & Outdoors > Camping & Hiking > Camping & Hiking Electronics > Solar Chargers\n",
      "155                                                                                                                            Men's Rockport 'Perth' Boat Shoe, Size 11 W - Brown                                                                                                                                                              Home > Apparel > Shoes > Boat Shoes\n",
      "156                                                                                                                     Costway 40\" Flying Saucer Tree Swing Outdoor Play for Kids                                                                                          Home > Toys & Games > Outdoor Play > Swing Sets & Playground Equipment > Swing Sets & Playsets > Swings\n",
      "157                                                                                                                            Honey Can Do 24-Pocket Over-The-Door Shoe Organizer                                                                                               Home > Home & Garden > Storage & Organization > Closet & Bedroom Storage > Shoe Racks & Organizers\n",
      "158                                                                                                                              16\" Jet Black Casual Round Braided Storage Basket                                                   Home > Home & Garden > Storage & Organization > Storage & Organization Essentials > Storage Containers, Boxes & Bins > Plastic Storage Baskets\n",
      "159  StarTech.com SATA to Left Angle SATA Serial ATA Cable - SATA cable - Serial ATA 150/300/600 - SATA to SATA - 1 ft - left-angled connector - red - SATA12LA1 SATA cable - 1 ft                                                      Home > Electronics > Computers, Tablets & Accessories > Computer Accessories & Parts > Cables, Adapters & Accessories > SATA & eSATA Cables\n",
      "160                                                                                                               Makita CT226 12V Max CXT Lithium Ion Cordless Combo Kit, 2 Piece                                                                                                                   Home > Home Improvement & Tools > Tools > Tool Sets > Cordless Power Tool Sets\n",
      "161                                                                                   No Slip Mat by Versatraction WAI Aikanes Ocean Buddies Bath Tub and Shower Treads (Set of 5)                                                                                                   Home > Home & Garden > Bedding & Bath > Bath & Shower > Shower Accessories > Shower & Tub Mats\n",
      "162                                                                                                             Bauerfeind AchilloTrain Pro Achilles Tendon Support - 5 / Titanium                                                                                    Home > Health & Beauty > Health & Wellness > Medicines & Treatments > Supports & Braces > Foot & Ankle Braces\n",
      "163                                                                                                                                           Hey! Play! 7-in-1 Classic Combo Game                                                                                                               Home > Toys & Games > Games & Puzzles > Board Games & Card Games > Backgammon Sets\n",
      "164                                                                                                             Renown Sureblend Organic Acid Restroom Cleaner, 80 oz. REN07134-SB                                                                                                 Home > Household Supplies > Cleaning Supplies > Bathroom Cleaning Supplies > Tub & Tile Cleaners\n",
      "165                                                                                                         10 Vintage 6DT4 Raython Premium Rectifier Tube Valve - BangyBang Tubes                                                                                           Home > Musical Instruments > Musical Instrument Accessories > Musical Instrument Amplifier Accessories\n",
      "166                                                                                                             Post-it Super Sticky Notes 3 x 5-Inches Canary Yellow 12-Pads/Pack                                                                                                                 Home > Office & School Supplies > Office Supplies > Office Basics > Sticky Notes\n",
      "167                                                                                                                                  Well & Good Waterless Cat Shampoo, 8 oz, 8 FZ                                                                                                            Home > Pet Supplies > General Pet Supplies > Pet Grooming > Pet Shampoo & Conditioner\n",
      "168                                                                                                                  AVerVision U70+ Document Camera - 720p/1080p/4K/30p - USB 3.0                                              Home > Office & School Supplies > Office Supplies > Meeting & Presentation Supplies > Office Projectors & Presentation Equipment > Document Cameras\n",
      "169                                                                           Juvale 4-Pack Wall-Mounted Diamond Glass Terrarium for Succulents and Air Plants, 5 x 4.5 x 2 Inches                                                                                    Home > Home & Garden > Lawn & Garden > Gardening & Landscaping > Plants, Flowers & Seeds > Cacti & Succulents\n",
      "170                                                                                                          Willstar Mosquito Repellent Lamp Good Sleep Room UV Insect Trap White                                                                                                   Home > Home & Garden > Lawn & Garden > Insect & Pest Control > Insect Control > Mosquito Traps\n",
      "171                                                                                                         Briarwood Lane Spring Covered Bridge House Flag Pickup Truck 28\" x 40\"                                                                                                             Home > Home & Garden > Lawn & Garden > Lawn & Garden Decor > Outdoor Flags & Banners\n",
      "172                                                                                                                           Klein Tools 42241 6-Pocket Nail Screw and Tool Pouch                                                                                              Home > Home Improvement & Tools > Tools > Tool Storage & Organization > Tool Belt Pouches & Sheaths\n",
      "173                                                                                        Kelly Leverless Lift N' Lock California - Keyboard and mouse platform with wrist pillow                                                    Home > Electronics > Computers, Tablets & Accessories > Computer Accessories & Parts > Keyboards, Mice & Accessories > Keyboard & Mouse Trays\n",
      "174                                                                                                                                            G-Form Pro Rugged Knee Black Medium                                                                                                               Home > Sports & Outdoors > Cycling > Cycling Apparel & Gear > Bike Protective Pads\n",
      "175                                                                                                                                    Legrand OFR11 Flat Elbow,Black,Steel,Elbows                      Home > Office & School Supplies > Office Supplies > Meeting & Presentation Supplies > Office Projectors & Presentation Equipment > Projector Accessories > Projector Mounts\n",
      "176                                                                                                                                                         Vivitar SC-62 Lens cap                                                                                                 Home > Electronics > Cameras & Optics > Camera Accessories > Camera Lens Accessories > Lens Caps\n",
      "177                                                                                                                          Songbird Essentials SE5022 Majestic Cardinal Birdbath                                                                                                                              Home > Home & Garden > Lawn & Garden > Backyard Birding > Birdbaths\n",
      "178                                                                                                         Dyson Pure Cool DP04 Oscillating Bladeless Fan/Purifier - White/Silver                                                                                                  Home > Home & Garden > Appliances > Fans & Air Quality Appliances > Fans > Desk & Tabletop Fans\n",
      "179                                                                                                                           Lorell 62618 Big & Tall Mid-Back Leather Guest Chair                                                                                                                          Home > Home & Garden > Furniture > Office Furniture > Reception Seating\n",
      "180                                                                                                                                          Lenox Disney Sofia The First Ornament                                                      Home > Home & Garden > Home Decor > Holiday & Seasonal Decor > Christmas & Holiday Decor > Christmas Tree Decorations > Christmas Ornaments\n",
      "181                                                                                                                                   Living Accents Hanging Basket, Black - 14 in                                                                                      Home > Home & Garden > Lawn & Garden > Gardening & Landscaping > Pots, Planters & Benches > Pots & Planters\n",
      "182                                                                                                                             Siku Fendt Tractor W Forestry Trailer - 187vehicle                                                                                                                           Home > Toys & Games > Toys > Play Vehicles > Toy Construction Vehicles\n",
      "183                                                                                                              Rubberfab 40Mpx-Buz-Xr-200 Sanitary Gasket,2In,tri-Clamp,silicone                                                                                           Home > Home Improvement & Tools > Plumbing Supplies > Plumbing Parts & Repair Kits > Gaskets & O-Rings\n",
      "184                                                                                                             Nike Air Max 720 Men's Shoe Size 10 (Purple/Ember Glow) AO2924-600                                                                                                                              Home > Apparel > Men's Apparel > Men's Shoes > Men's Athletic Shoes\n",
      "185                                                                                    Bulbrite Incandescent (INC) T5.5 10W Dimmable 2700K Warm White Light Bulb, 50 Pack (715006)                                                                                      Home > Home Improvement & Tools > Smart Home & Automation > Smart Household Electronics > Smart Light Bulbs\n",
      "186                                                                                                       DecalGirl BNNT-CSTORM Barnes & Noble NOOK Touch Skin - Conquering Storms                                                                      Home > Electronics > Computers, Tablets & Accessories > Tablets, E-Readers & Mobile > E-Reader Accessories > E-Reader Cases\n",
      "187                                                                                                                             Smead - File pocket - Letter - green (pack of 100)                                                                                                              Home > Office & School Supplies > Office Supplies > Filing & Folders > File Folders\n",
      "188                                                                                                                                      New England Arbors Nantucket Legacy Arbor                                                                                                Home > Home & Garden > Lawn & Garden > Gazebos, Trellises & Pergolas > Arbors, Arches & Trellises\n",
      "189                                                                                                                                                            Cut & Restored Rope                                                                                                                   Home > Arts, Crafts & Party Supplies > Crafts & Hobbies > Magic Tricks & Props\n",
      "190                                                           Extreme Networks Summit X450-G2 Series X450-G2-24p-GE4 Managed Switch - 24 PoE+ Ethernet Ports & 4 Gigabit SFP Ports  Home > Electronics > Computers, Tablets & Accessories > Computer Accessories & Parts > Cables, Adapters & Accessories > Cable Adapters, Splitters & Switches > Cable Hubs, Splitters & Switches\n",
      "191                                                                                                            Proselect Puppy Playpen + Bonus 7-Pack of Puppy Pads (Small), Black                                                                                                                     Home > Pet Supplies > Dog Supplies > Dog Travel & Containment > Dog Playpens\n",
      "192                                                                                                          TYR Men's Kaleidoscope Durafast Elite Jammer - 2015 - 38 - Blue/Green                                                                                                Home > Sports & Outdoors > Athletics & Team Sports > Competitive Swimming > Competition Swimsuits\n",
      "193                                                                                                                                           Adams Rite 8200-36-US32D Exit Device                                                                                                                 Home > Home Improvement & Tools > Doors & Windows > Door Hardware > Door Strikes\n",
      "194                                                                                                                                 Horze Slender Intertwined Reins - Pony / Brown                                                                                                                                       Home > Sports & Outdoors > Equestrian > Horse Tack > Reins\n",
      "195                                                                                                                                              The Most Magnificent Thing [Book]                                                                                                                                                             Home > Books, Movies & Music > Books\n",
      "196                                                                                                                                Shoei X-14 Daijiro TC-1 Red Helmet Size X-Large                                                                                                        Home > Automotive > Motorcycle & Scooter > Motorcycle Apparel & Gear > Motorcycle Helmets\n",
      "197                                                                                                              Mitzi Avery 1-Light Small Pendant Polished Nickel & Mint H199701S                                                                                     Home > Home Improvement & Tools > Light Fixtures & Ceiling Fans > Pendant Lights > Bowl & Jar Pendant Lights\n",
      "198                                                                                                                                 4pc Cleopatra of The Nile Costume Large / Gold                                                  Home > Arts, Crafts & Party Supplies > Party & Special Occasion > Costumes & Costume Accessories > Costumes > Adult Costumes > Women's Costumes\n",
      "199                                                                                                               Bodyguardz Pure2 Glass Screen Protector Samsung J7(2017) - Clear                                                                                           Home > Electronics > Cell Phones & Accessories > Cell Phone Accessories > Cell Phone Screen Protectors\n"
     ]
    }
   ],
   "source": [
    "print(df[:200][[\"title\", \"category\"]].to_string())"
   ]
  },
  {
   "cell_type": "markdown",
   "metadata": {},
   "source": [
    "Compare to doordash"
   ]
  },
  {
   "cell_type": "code",
   "execution_count": 4,
   "metadata": {},
   "outputs": [
    {
     "ename": "FileNotFoundError",
     "evalue": "[Errno 2] File doordash.csv does not exist: 'doordash.csv'",
     "output_type": "error",
     "traceback": [
      "\u001b[0;31m---------------------------------------------------------------------------\u001b[0m",
      "\u001b[0;31mFileNotFoundError\u001b[0m                         Traceback (most recent call last)",
      "\u001b[0;32m<ipython-input-4-64e0f742d536>\u001b[0m in \u001b[0;36m<module>\u001b[0;34m\u001b[0m\n\u001b[0;32m----> 1\u001b[0;31m \u001b[0mdoordash\u001b[0m \u001b[0;34m=\u001b[0m \u001b[0mpd\u001b[0m\u001b[0;34m.\u001b[0m\u001b[0mread_csv\u001b[0m\u001b[0;34m(\u001b[0m\u001b[0;34m\"doordash.csv\"\u001b[0m\u001b[0;34m)\u001b[0m\u001b[0;34m\u001b[0m\u001b[0;34m\u001b[0m\u001b[0m\n\u001b[0m\u001b[1;32m      2\u001b[0m \u001b[0mdoordash\u001b[0m\u001b[0;34m\u001b[0m\u001b[0;34m\u001b[0m\u001b[0m\n",
      "\u001b[0;32m~/anaconda3/envs/pytorch_p36/lib/python3.6/site-packages/pandas/io/parsers.py\u001b[0m in \u001b[0;36mparser_f\u001b[0;34m(filepath_or_buffer, sep, delimiter, header, names, index_col, usecols, squeeze, prefix, mangle_dupe_cols, dtype, engine, converters, true_values, false_values, skipinitialspace, skiprows, skipfooter, nrows, na_values, keep_default_na, na_filter, verbose, skip_blank_lines, parse_dates, infer_datetime_format, keep_date_col, date_parser, dayfirst, cache_dates, iterator, chunksize, compression, thousands, decimal, lineterminator, quotechar, quoting, doublequote, escapechar, comment, encoding, dialect, error_bad_lines, warn_bad_lines, delim_whitespace, low_memory, memory_map, float_precision)\u001b[0m\n\u001b[1;32m    674\u001b[0m         )\n\u001b[1;32m    675\u001b[0m \u001b[0;34m\u001b[0m\u001b[0m\n\u001b[0;32m--> 676\u001b[0;31m         \u001b[0;32mreturn\u001b[0m \u001b[0m_read\u001b[0m\u001b[0;34m(\u001b[0m\u001b[0mfilepath_or_buffer\u001b[0m\u001b[0;34m,\u001b[0m \u001b[0mkwds\u001b[0m\u001b[0;34m)\u001b[0m\u001b[0;34m\u001b[0m\u001b[0;34m\u001b[0m\u001b[0m\n\u001b[0m\u001b[1;32m    677\u001b[0m \u001b[0;34m\u001b[0m\u001b[0m\n\u001b[1;32m    678\u001b[0m     \u001b[0mparser_f\u001b[0m\u001b[0;34m.\u001b[0m\u001b[0m__name__\u001b[0m \u001b[0;34m=\u001b[0m \u001b[0mname\u001b[0m\u001b[0;34m\u001b[0m\u001b[0;34m\u001b[0m\u001b[0m\n",
      "\u001b[0;32m~/anaconda3/envs/pytorch_p36/lib/python3.6/site-packages/pandas/io/parsers.py\u001b[0m in \u001b[0;36m_read\u001b[0;34m(filepath_or_buffer, kwds)\u001b[0m\n\u001b[1;32m    446\u001b[0m \u001b[0;34m\u001b[0m\u001b[0m\n\u001b[1;32m    447\u001b[0m     \u001b[0;31m# Create the parser.\u001b[0m\u001b[0;34m\u001b[0m\u001b[0;34m\u001b[0m\u001b[0;34m\u001b[0m\u001b[0m\n\u001b[0;32m--> 448\u001b[0;31m     \u001b[0mparser\u001b[0m \u001b[0;34m=\u001b[0m \u001b[0mTextFileReader\u001b[0m\u001b[0;34m(\u001b[0m\u001b[0mfp_or_buf\u001b[0m\u001b[0;34m,\u001b[0m \u001b[0;34m**\u001b[0m\u001b[0mkwds\u001b[0m\u001b[0;34m)\u001b[0m\u001b[0;34m\u001b[0m\u001b[0;34m\u001b[0m\u001b[0m\n\u001b[0m\u001b[1;32m    449\u001b[0m \u001b[0;34m\u001b[0m\u001b[0m\n\u001b[1;32m    450\u001b[0m     \u001b[0;32mif\u001b[0m \u001b[0mchunksize\u001b[0m \u001b[0;32mor\u001b[0m \u001b[0miterator\u001b[0m\u001b[0;34m:\u001b[0m\u001b[0;34m\u001b[0m\u001b[0;34m\u001b[0m\u001b[0m\n",
      "\u001b[0;32m~/anaconda3/envs/pytorch_p36/lib/python3.6/site-packages/pandas/io/parsers.py\u001b[0m in \u001b[0;36m__init__\u001b[0;34m(self, f, engine, **kwds)\u001b[0m\n\u001b[1;32m    878\u001b[0m             \u001b[0mself\u001b[0m\u001b[0;34m.\u001b[0m\u001b[0moptions\u001b[0m\u001b[0;34m[\u001b[0m\u001b[0;34m\"has_index_names\"\u001b[0m\u001b[0;34m]\u001b[0m \u001b[0;34m=\u001b[0m \u001b[0mkwds\u001b[0m\u001b[0;34m[\u001b[0m\u001b[0;34m\"has_index_names\"\u001b[0m\u001b[0;34m]\u001b[0m\u001b[0;34m\u001b[0m\u001b[0;34m\u001b[0m\u001b[0m\n\u001b[1;32m    879\u001b[0m \u001b[0;34m\u001b[0m\u001b[0m\n\u001b[0;32m--> 880\u001b[0;31m         \u001b[0mself\u001b[0m\u001b[0;34m.\u001b[0m\u001b[0m_make_engine\u001b[0m\u001b[0;34m(\u001b[0m\u001b[0mself\u001b[0m\u001b[0;34m.\u001b[0m\u001b[0mengine\u001b[0m\u001b[0;34m)\u001b[0m\u001b[0;34m\u001b[0m\u001b[0;34m\u001b[0m\u001b[0m\n\u001b[0m\u001b[1;32m    881\u001b[0m \u001b[0;34m\u001b[0m\u001b[0m\n\u001b[1;32m    882\u001b[0m     \u001b[0;32mdef\u001b[0m \u001b[0mclose\u001b[0m\u001b[0;34m(\u001b[0m\u001b[0mself\u001b[0m\u001b[0;34m)\u001b[0m\u001b[0;34m:\u001b[0m\u001b[0;34m\u001b[0m\u001b[0;34m\u001b[0m\u001b[0m\n",
      "\u001b[0;32m~/anaconda3/envs/pytorch_p36/lib/python3.6/site-packages/pandas/io/parsers.py\u001b[0m in \u001b[0;36m_make_engine\u001b[0;34m(self, engine)\u001b[0m\n\u001b[1;32m   1112\u001b[0m     \u001b[0;32mdef\u001b[0m \u001b[0m_make_engine\u001b[0m\u001b[0;34m(\u001b[0m\u001b[0mself\u001b[0m\u001b[0;34m,\u001b[0m \u001b[0mengine\u001b[0m\u001b[0;34m=\u001b[0m\u001b[0;34m\"c\"\u001b[0m\u001b[0;34m)\u001b[0m\u001b[0;34m:\u001b[0m\u001b[0;34m\u001b[0m\u001b[0;34m\u001b[0m\u001b[0m\n\u001b[1;32m   1113\u001b[0m         \u001b[0;32mif\u001b[0m \u001b[0mengine\u001b[0m \u001b[0;34m==\u001b[0m \u001b[0;34m\"c\"\u001b[0m\u001b[0;34m:\u001b[0m\u001b[0;34m\u001b[0m\u001b[0;34m\u001b[0m\u001b[0m\n\u001b[0;32m-> 1114\u001b[0;31m             \u001b[0mself\u001b[0m\u001b[0;34m.\u001b[0m\u001b[0m_engine\u001b[0m \u001b[0;34m=\u001b[0m \u001b[0mCParserWrapper\u001b[0m\u001b[0;34m(\u001b[0m\u001b[0mself\u001b[0m\u001b[0;34m.\u001b[0m\u001b[0mf\u001b[0m\u001b[0;34m,\u001b[0m \u001b[0;34m**\u001b[0m\u001b[0mself\u001b[0m\u001b[0;34m.\u001b[0m\u001b[0moptions\u001b[0m\u001b[0;34m)\u001b[0m\u001b[0;34m\u001b[0m\u001b[0;34m\u001b[0m\u001b[0m\n\u001b[0m\u001b[1;32m   1115\u001b[0m         \u001b[0;32melse\u001b[0m\u001b[0;34m:\u001b[0m\u001b[0;34m\u001b[0m\u001b[0;34m\u001b[0m\u001b[0m\n\u001b[1;32m   1116\u001b[0m             \u001b[0;32mif\u001b[0m \u001b[0mengine\u001b[0m \u001b[0;34m==\u001b[0m \u001b[0;34m\"python\"\u001b[0m\u001b[0;34m:\u001b[0m\u001b[0;34m\u001b[0m\u001b[0;34m\u001b[0m\u001b[0m\n",
      "\u001b[0;32m~/anaconda3/envs/pytorch_p36/lib/python3.6/site-packages/pandas/io/parsers.py\u001b[0m in \u001b[0;36m__init__\u001b[0;34m(self, src, **kwds)\u001b[0m\n\u001b[1;32m   1889\u001b[0m         \u001b[0mkwds\u001b[0m\u001b[0;34m[\u001b[0m\u001b[0;34m\"usecols\"\u001b[0m\u001b[0;34m]\u001b[0m \u001b[0;34m=\u001b[0m \u001b[0mself\u001b[0m\u001b[0;34m.\u001b[0m\u001b[0musecols\u001b[0m\u001b[0;34m\u001b[0m\u001b[0;34m\u001b[0m\u001b[0m\n\u001b[1;32m   1890\u001b[0m \u001b[0;34m\u001b[0m\u001b[0m\n\u001b[0;32m-> 1891\u001b[0;31m         \u001b[0mself\u001b[0m\u001b[0;34m.\u001b[0m\u001b[0m_reader\u001b[0m \u001b[0;34m=\u001b[0m \u001b[0mparsers\u001b[0m\u001b[0;34m.\u001b[0m\u001b[0mTextReader\u001b[0m\u001b[0;34m(\u001b[0m\u001b[0msrc\u001b[0m\u001b[0;34m,\u001b[0m \u001b[0;34m**\u001b[0m\u001b[0mkwds\u001b[0m\u001b[0;34m)\u001b[0m\u001b[0;34m\u001b[0m\u001b[0;34m\u001b[0m\u001b[0m\n\u001b[0m\u001b[1;32m   1892\u001b[0m         \u001b[0mself\u001b[0m\u001b[0;34m.\u001b[0m\u001b[0munnamed_cols\u001b[0m \u001b[0;34m=\u001b[0m \u001b[0mself\u001b[0m\u001b[0;34m.\u001b[0m\u001b[0m_reader\u001b[0m\u001b[0;34m.\u001b[0m\u001b[0munnamed_cols\u001b[0m\u001b[0;34m\u001b[0m\u001b[0;34m\u001b[0m\u001b[0m\n\u001b[1;32m   1893\u001b[0m \u001b[0;34m\u001b[0m\u001b[0m\n",
      "\u001b[0;32mpandas/_libs/parsers.pyx\u001b[0m in \u001b[0;36mpandas._libs.parsers.TextReader.__cinit__\u001b[0;34m()\u001b[0m\n",
      "\u001b[0;32mpandas/_libs/parsers.pyx\u001b[0m in \u001b[0;36mpandas._libs.parsers.TextReader._setup_parser_source\u001b[0;34m()\u001b[0m\n",
      "\u001b[0;31mFileNotFoundError\u001b[0m: [Errno 2] File doordash.csv does not exist: 'doordash.csv'"
     ]
    }
   ],
   "source": [
    "doordash = pd.read_csv(\"doordash.csv\")\n",
    "doordash"
   ]
  },
  {
   "cell_type": "code",
   "execution_count": null,
   "metadata": {},
   "outputs": [],
   "source": [
    "doordash.groupby([\"L1\", \"L2\"]).size()"
   ]
  }
 ],
 "metadata": {
  "kernelspec": {
   "display_name": "Environment (conda_pytorch_p36)",
   "language": "python",
   "name": "conda_pytorch_p36"
  },
  "language_info": {
   "codemirror_mode": {
    "name": "ipython",
    "version": 3
   },
   "file_extension": ".py",
   "mimetype": "text/x-python",
   "name": "python",
   "nbconvert_exporter": "python",
   "pygments_lexer": "ipython3",
   "version": "3.6.10"
  }
 },
 "nbformat": 4,
 "nbformat_minor": 4
}
