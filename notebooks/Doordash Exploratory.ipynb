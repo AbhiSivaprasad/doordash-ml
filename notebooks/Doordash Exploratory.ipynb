{
 "cells": [
  {
   "cell_type": "code",
   "execution_count": 2,
   "metadata": {},
   "outputs": [
    {
     "data": {
      "text/html": [
       "<style>.container { width:100% !important; }</style>"
      ],
      "text/plain": [
       "<IPython.core.display.HTML object>"
      ]
     },
     "metadata": {},
     "output_type": "display_data"
    }
   ],
   "source": [
    "%load_ext autoreload\n",
    "%autoreload 2\n",
    "\n",
    "from IPython.core.display import display, HTML\n",
    "display(HTML(\"<style>.container { width:100% !important; }</style>\"))"
   ]
  },
  {
   "cell_type": "code",
   "execution_count": 1,
   "metadata": {},
   "outputs": [],
   "source": [
    "import pandas as pd\n",
    "import numpy as np\n",
    "import random\n",
    "import torch\n",
    "import transformers\n",
    "import matplotlib.pyplot as plt\n",
    "import seaborn as sns"
   ]
  },
  {
   "cell_type": "code",
   "execution_count": 9,
   "metadata": {},
   "outputs": [
    {
     "data": {
      "text/html": [
       "<div>\n",
       "<style scoped>\n",
       "    .dataframe tbody tr th:only-of-type {\n",
       "        vertical-align: middle;\n",
       "    }\n",
       "\n",
       "    .dataframe tbody tr th {\n",
       "        vertical-align: top;\n",
       "    }\n",
       "\n",
       "    .dataframe thead th {\n",
       "        text-align: right;\n",
       "    }\n",
       "</style>\n",
       "<table border=\"1\" class=\"dataframe\">\n",
       "  <thead>\n",
       "    <tr style=\"text-align: right;\">\n",
       "      <th></th>\n",
       "      <th>Business</th>\n",
       "      <th>item_name</th>\n",
       "      <th>category1_tag_id</th>\n",
       "      <th>l1</th>\n",
       "      <th>category2_tag_id</th>\n",
       "      <th>l2</th>\n",
       "    </tr>\n",
       "  </thead>\n",
       "  <tbody>\n",
       "    <tr>\n",
       "      <th>0</th>\n",
       "      <td>Smart &amp; Final</td>\n",
       "      <td>E &amp; J Brandy Apple (750 ml)</td>\n",
       "      <td>1024</td>\n",
       "      <td>Alcohol</td>\n",
       "      <td>1040</td>\n",
       "      <td>Liquor</td>\n",
       "    </tr>\n",
       "    <tr>\n",
       "      <th>1</th>\n",
       "      <td>Smart &amp; Final</td>\n",
       "      <td>Fairbanks Cream Sherry California (1.5 L)</td>\n",
       "      <td>1024</td>\n",
       "      <td>Alcohol</td>\n",
       "      <td>1040</td>\n",
       "      <td>Liquor</td>\n",
       "    </tr>\n",
       "    <tr>\n",
       "      <th>2</th>\n",
       "      <td>Smart &amp; Final</td>\n",
       "      <td>Augustine Brandy Premium (1.75 l)</td>\n",
       "      <td>1024</td>\n",
       "      <td>Alcohol</td>\n",
       "      <td>1040</td>\n",
       "      <td>Liquor</td>\n",
       "    </tr>\n",
       "    <tr>\n",
       "      <th>3</th>\n",
       "      <td>Smart &amp; Final</td>\n",
       "      <td>E &amp; J Brandy VS Original (750 ml)</td>\n",
       "      <td>1024</td>\n",
       "      <td>Alcohol</td>\n",
       "      <td>1040</td>\n",
       "      <td>Liquor</td>\n",
       "    </tr>\n",
       "    <tr>\n",
       "      <th>4</th>\n",
       "      <td>Smart &amp; Final</td>\n",
       "      <td>E&amp;J VSOP Brandy (1.75lt)</td>\n",
       "      <td>1024</td>\n",
       "      <td>Alcohol</td>\n",
       "      <td>1040</td>\n",
       "      <td>Liquor</td>\n",
       "    </tr>\n",
       "  </tbody>\n",
       "</table>\n",
       "</div>"
      ],
      "text/plain": [
       "        Business                                  item_name  category1_tag_id  \\\n",
       "0  Smart & Final                E & J Brandy Apple (750 ml)              1024   \n",
       "1  Smart & Final  Fairbanks Cream Sherry California (1.5 L)              1024   \n",
       "2  Smart & Final          Augustine Brandy Premium (1.75 l)              1024   \n",
       "3  Smart & Final          E & J Brandy VS Original (750 ml)              1024   \n",
       "4  Smart & Final                   E&J VSOP Brandy (1.75lt)              1024   \n",
       "\n",
       "        l1  category2_tag_id      l2  \n",
       "0  Alcohol              1040  Liquor  \n",
       "1  Alcohol              1040  Liquor  \n",
       "2  Alcohol              1040  Liquor  \n",
       "3  Alcohol              1040  Liquor  \n",
       "4  Alcohol              1040  Liquor  "
      ]
     },
     "execution_count": 9,
     "metadata": {},
     "output_type": "execute_result"
    }
   ],
   "source": [
    "# read full data\n",
    "df = pd.read_csv('../data.csv')\n",
    "df.head()"
   ]
  },
  {
   "cell_type": "code",
   "execution_count": 11,
   "metadata": {},
   "outputs": [
    {
     "data": {
      "text/plain": [
       "Personal Care    19344\n",
       "Pantry           13594\n",
       "Household         8037\n",
       "Snacks            7796\n",
       "Drinks            7620\n",
       "Vitamins          5965\n",
       "Frozen            5482\n",
       "Alcohol           5233\n",
       "Dairy & Eggs      4224\n",
       "Medicine          4050\n",
       "Candy             3393\n",
       "Bakery            2197\n",
       "Meat & Fish       1708\n",
       "Baby & Child      1688\n",
       "Produce           1253\n",
       "Pet Care          1180\n",
       "Baby               921\n",
       "Beauty             819\n",
       "Fresh Food         564\n",
       "Condiments         529\n",
       "Name: l1, dtype: int64"
      ]
     },
     "execution_count": 11,
     "metadata": {},
     "output_type": "execute_result"
    }
   ],
   "source": [
    "df.l1.value_counts()"
   ]
  },
  {
   "cell_type": "code",
   "execution_count": 12,
   "metadata": {},
   "outputs": [
    {
     "data": {
      "text/plain": [
       "Walgreens               26013\n",
       "Smart & Final           19991\n",
       "Fresh Thyme             17708\n",
       "Cub Foods               10888\n",
       "Meijer Grocery           9087\n",
       "CVS                      5801\n",
       "Kroger                   2827\n",
       "7-Eleven                 2779\n",
       "Holiday Stationstore      503\n",
       "Name: Business, dtype: int64"
      ]
     },
     "execution_count": 12,
     "metadata": {},
     "output_type": "execute_result"
    }
   ],
   "source": [
    "df.Business.value_counts()"
   ]
  },
  {
   "cell_type": "code",
   "execution_count": 15,
   "metadata": {},
   "outputs": [
    {
     "data": {
      "text/plain": [
       "Personal Care    1430\n",
       "Medicine          867\n",
       "Household         821\n",
       "Drinks            536\n",
       "Candy             495\n",
       "Snacks            438\n",
       "Baby & Child      385\n",
       "Pantry            317\n",
       "Vitamins          251\n",
       "Frozen            124\n",
       "Dairy & Eggs       75\n",
       "Pet Care           44\n",
       "Bakery             15\n",
       "Meat & Fish         3\n",
       "Name: l1, dtype: int64"
      ]
     },
     "execution_count": 15,
     "metadata": {},
     "output_type": "execute_result"
    }
   ],
   "source": [
    "df[df[\"Business\"] == \"CVS\"].l1.value_counts()"
   ]
  },
  {
   "cell_type": "code",
   "execution_count": 21,
   "metadata": {},
   "outputs": [
    {
     "data": {
      "text/plain": [
       "Pantry           519\n",
       "Frozen           406\n",
       "Drinks           338\n",
       "Dairy & Eggs     303\n",
       "Snacks           293\n",
       "Meat & Fish      225\n",
       "Produce          195\n",
       "Household        146\n",
       "Bakery           109\n",
       "Baby & Child      80\n",
       "Fresh Food        65\n",
       "Personal Care     46\n",
       "Pet Care          44\n",
       "Candy             40\n",
       "Medicine          16\n",
       "Vitamins           2\n",
       "Name: l1, dtype: int64"
      ]
     },
     "execution_count": 21,
     "metadata": {},
     "output_type": "execute_result"
    }
   ],
   "source": [
    "df[df[\"Business\"].isin([\"Kroger\"])].l1.value_counts()"
   ]
  },
  {
   "cell_type": "code",
   "execution_count": null,
   "metadata": {},
   "outputs": [],
   "source": []
  }
 ],
 "metadata": {
  "kernelspec": {
   "display_name": "Environment (conda_pytorch_p36)",
   "language": "python",
   "name": "conda_pytorch_p36"
  },
  "language_info": {
   "codemirror_mode": {
    "name": "ipython",
    "version": 3
   },
   "file_extension": ".py",
   "mimetype": "text/x-python",
   "name": "python",
   "nbconvert_exporter": "python",
   "pygments_lexer": "ipython3",
   "version": "3.6.10"
  }
 },
 "nbformat": 4,
 "nbformat_minor": 4
}
