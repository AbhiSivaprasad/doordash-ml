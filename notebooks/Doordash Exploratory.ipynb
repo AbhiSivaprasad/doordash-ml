{
 "cells": [
  {
   "cell_type": "code",
   "execution_count": 1,
   "metadata": {},
   "outputs": [
    {
     "data": {
      "text/html": [
       "<style>.container { width:100% !important; }</style>"
      ],
      "text/plain": [
       "<IPython.core.display.HTML object>"
      ]
     },
     "metadata": {},
     "output_type": "display_data"
    }
   ],
   "source": [
    "%load_ext autoreload\n",
    "%autoreload 2\n",
    "\n",
    "from IPython.core.display import display, HTML\n",
    "display(HTML(\"<style>.container { width:100% !important; }</style>\"))"
   ]
  },
  {
   "cell_type": "code",
   "execution_count": 2,
   "metadata": {},
   "outputs": [],
   "source": [
    "import pandas as pd\n",
    "import numpy as np\n",
    "import random\n",
    "import torch\n",
    "import transformers\n",
    "import matplotlib.pyplot as plt\n",
    "import seaborn as sns"
   ]
  },
  {
   "cell_type": "code",
   "execution_count": 3,
   "metadata": {},
   "outputs": [
    {
     "data": {
      "text/html": [
       "<div>\n",
       "<style scoped>\n",
       "    .dataframe tbody tr th:only-of-type {\n",
       "        vertical-align: middle;\n",
       "    }\n",
       "\n",
       "    .dataframe tbody tr th {\n",
       "        vertical-align: top;\n",
       "    }\n",
       "\n",
       "    .dataframe thead th {\n",
       "        text-align: right;\n",
       "    }\n",
       "</style>\n",
       "<table border=\"1\" class=\"dataframe\">\n",
       "  <thead>\n",
       "    <tr style=\"text-align: right;\">\n",
       "      <th></th>\n",
       "      <th>item_name</th>\n",
       "      <th>l1</th>\n",
       "      <th>l2</th>\n",
       "      <th>photo</th>\n",
       "      <th>Business</th>\n",
       "      <th>category1_tag_id</th>\n",
       "      <th>category2_tag_id</th>\n",
       "    </tr>\n",
       "  </thead>\n",
       "  <tbody>\n",
       "    <tr>\n",
       "      <th>0</th>\n",
       "      <td>Starbucks Flavored Liquid Coffee Pumpkin Spice...</td>\n",
       "      <td>Drinks</td>\n",
       "      <td>Coffee</td>\n",
       "      <td>http://cdn.doordash.com/media/photos/fb3fd14f-...</td>\n",
       "      <td>Circle K</td>\n",
       "      <td>NaN</td>\n",
       "      <td>NaN</td>\n",
       "    </tr>\n",
       "    <tr>\n",
       "      <th>1</th>\n",
       "      <td>Pure Leaf Liquid Herbal Tea Cherry Hibiscus No...</td>\n",
       "      <td>Drinks</td>\n",
       "      <td>Tea</td>\n",
       "      <td>http://cdn.doordash.com/media/photos/18896761-...</td>\n",
       "      <td>Circle K</td>\n",
       "      <td>NaN</td>\n",
       "      <td>NaN</td>\n",
       "    </tr>\n",
       "    <tr>\n",
       "      <th>2</th>\n",
       "      <td>Mtn Dew Code Red Soft Drink Citrus Cherry Bott...</td>\n",
       "      <td>Drinks</td>\n",
       "      <td>Soda</td>\n",
       "      <td>http://cdn.doordash.com/media/photos/f90aa531-...</td>\n",
       "      <td>Circle K</td>\n",
       "      <td>NaN</td>\n",
       "      <td>NaN</td>\n",
       "    </tr>\n",
       "    <tr>\n",
       "      <th>3</th>\n",
       "      <td>Anderson Valley Brewing Compny Ale The Kimmie,...</td>\n",
       "      <td>Alcohol</td>\n",
       "      <td>Beer</td>\n",
       "      <td>http://cdn.doordash.com/media/photos/17fc39a2-...</td>\n",
       "      <td>Circle K</td>\n",
       "      <td>NaN</td>\n",
       "      <td>NaN</td>\n",
       "    </tr>\n",
       "    <tr>\n",
       "      <th>4</th>\n",
       "      <td>Mtn Dew Citrus Zero Calorie Soft Drink 12 oz C...</td>\n",
       "      <td>Drinks</td>\n",
       "      <td>Soda</td>\n",
       "      <td>http://cdn.doordash.com/media/photos/0b70a92e-...</td>\n",
       "      <td>Circle K</td>\n",
       "      <td>NaN</td>\n",
       "      <td>NaN</td>\n",
       "    </tr>\n",
       "  </tbody>\n",
       "</table>\n",
       "</div>"
      ],
      "text/plain": [
       "                                           item_name       l1      l2  \\\n",
       "0  Starbucks Flavored Liquid Coffee Pumpkin Spice...   Drinks  Coffee   \n",
       "1  Pure Leaf Liquid Herbal Tea Cherry Hibiscus No...   Drinks     Tea   \n",
       "2  Mtn Dew Code Red Soft Drink Citrus Cherry Bott...   Drinks    Soda   \n",
       "3  Anderson Valley Brewing Compny Ale The Kimmie,...  Alcohol    Beer   \n",
       "4  Mtn Dew Citrus Zero Calorie Soft Drink 12 oz C...   Drinks    Soda   \n",
       "\n",
       "                                               photo  Business  \\\n",
       "0  http://cdn.doordash.com/media/photos/fb3fd14f-...  Circle K   \n",
       "1  http://cdn.doordash.com/media/photos/18896761-...  Circle K   \n",
       "2  http://cdn.doordash.com/media/photos/f90aa531-...  Circle K   \n",
       "3  http://cdn.doordash.com/media/photos/17fc39a2-...  Circle K   \n",
       "4  http://cdn.doordash.com/media/photos/0b70a92e-...  Circle K   \n",
       "\n",
       "   category1_tag_id  category2_tag_id  \n",
       "0               NaN               NaN  \n",
       "1               NaN               NaN  \n",
       "2               NaN               NaN  \n",
       "3               NaN               NaN  \n",
       "4               NaN               NaN  "
      ]
     },
     "execution_count": 3,
     "metadata": {},
     "output_type": "execute_result"
    }
   ],
   "source": [
    "# read full data\n",
    "df = pd.read_csv('../data.csv')\n",
    "df.head()"
   ]
  },
  {
   "cell_type": "code",
   "execution_count": 4,
   "metadata": {},
   "outputs": [
    {
     "data": {
      "text/plain": [
       "Personal Care    19394\n",
       "Pantry           13692\n",
       "Snacks            8793\n",
       "Drinks            8582\n",
       "Household         8162\n",
       "Alcohol           6163\n",
       "Vitamins          5967\n",
       "Frozen            5565\n",
       "Dairy & Eggs      4311\n",
       "Medicine          4141\n",
       "Candy             3990\n",
       "Bakery            2206\n",
       "Meat & Fish       1710\n",
       "Baby & Child      1690\n",
       "Produce           1253\n",
       "Pet Care          1214\n",
       "Baby               921\n",
       "Beauty             819\n",
       "Fresh Food         614\n",
       "Condiments         529\n",
       "Name: l1, dtype: int64"
      ]
     },
     "execution_count": 4,
     "metadata": {},
     "output_type": "execute_result"
    }
   ],
   "source": [
    "df.l1.value_counts()"
   ]
  },
  {
   "cell_type": "code",
   "execution_count": 5,
   "metadata": {},
   "outputs": [
    {
     "data": {
      "text/plain": [
       "Walgreens               26013\n",
       "Smart & Final           19991\n",
       "Fresh Thyme             17708\n",
       "Cub Foods               10888\n",
       "Meijer Grocery           9087\n",
       "CVS                      5801\n",
       "Circle K                 4119\n",
       "Kroger                   2827\n",
       "7-Eleven                 2779\n",
       "Holiday Stationstore      503\n",
       "Name: Business, dtype: int64"
      ]
     },
     "execution_count": 5,
     "metadata": {},
     "output_type": "execute_result"
    }
   ],
   "source": [
    "df.Business.value_counts()"
   ]
  },
  {
   "cell_type": "code",
   "execution_count": 6,
   "metadata": {},
   "outputs": [
    {
     "data": {
      "text/plain": [
       "Personal Care    1430\n",
       "Medicine          867\n",
       "Household         821\n",
       "Drinks            536\n",
       "Candy             495\n",
       "Snacks            438\n",
       "Baby & Child      385\n",
       "Pantry            317\n",
       "Vitamins          251\n",
       "Frozen            124\n",
       "Dairy & Eggs       75\n",
       "Pet Care           44\n",
       "Bakery             15\n",
       "Meat & Fish         3\n",
       "Name: l1, dtype: int64"
      ]
     },
     "execution_count": 6,
     "metadata": {},
     "output_type": "execute_result"
    }
   ],
   "source": [
    "df[df[\"Business\"] == \"CVS\"].l1.value_counts()"
   ]
  },
  {
   "cell_type": "code",
   "execution_count": 7,
   "metadata": {},
   "outputs": [
    {
     "data": {
      "text/plain": [
       "Personal Care    1561\n",
       "Drinks           1441\n",
       "Snacks           1093\n",
       "Household        1052\n",
       "Medicine          975\n",
       "Pantry            925\n",
       "Candy             812\n",
       "Frozen            713\n",
       "Dairy & Eggs      595\n",
       "Alcohol           589\n",
       "Baby & Child      475\n",
       "Vitamins          257\n",
       "Bakery            234\n",
       "Meat & Fish       231\n",
       "Produce           209\n",
       "Fresh Food        133\n",
       "Pet Care          112\n",
       "Name: l1, dtype: int64"
      ]
     },
     "execution_count": 7,
     "metadata": {},
     "output_type": "execute_result"
    }
   ],
   "source": [
    "df[df[\"Business\"].isin([\"Kroger\", \"7-Eleven\", \"CVS\"])].l1.value_counts()"
   ]
  },
  {
   "cell_type": "code",
   "execution_count": 8,
   "metadata": {},
   "outputs": [
    {
     "data": {
      "text/plain": [
       "11407"
      ]
     },
     "execution_count": 8,
     "metadata": {},
     "output_type": "execute_result"
    }
   ],
   "source": [
    "len(df[df[\"Business\"].isin([\"Kroger\", \"7-Eleven\", \"CVS\"])])"
   ]
  },
  {
   "cell_type": "code",
   "execution_count": 9,
   "metadata": {},
   "outputs": [],
   "source": [
    "mask = df[\"Business\"].isin([\"Kroger\", \"7-Eleven\", \"CVS\"])\n",
    "train = df[~mask]\n",
    "test = df[mask]"
   ]
  },
  {
   "cell_type": "code",
   "execution_count": 10,
   "metadata": {
    "scrolled": true
   },
   "outputs": [],
   "source": [
    "# find all categories in test that are ONLY in test\n",
    "test_sizes = test.groupby([\"l1\", \"l2\"]).size()\n",
    "train_sizes = train.groupby([\"l1\", \"l2\"]).size()"
   ]
  },
  {
   "cell_type": "code",
   "execution_count": 31,
   "metadata": {},
   "outputs": [
    {
     "data": {
      "text/plain": [
       "l1        l2           \n",
       "Alcohol   Alcohol-Free        2\n",
       "          Beer             2086\n",
       "          Liquor            779\n",
       "          Mixers             46\n",
       "          Seltzer           197\n",
       "                           ... \n",
       "Vitamins  Liquor              1\n",
       "          Minerals          299\n",
       "          Multivitamins     734\n",
       "          Supplements      2259\n",
       "          Vitamins A-Z      924\n",
       "Length: 230, dtype: int64"
      ]
     },
     "execution_count": 31,
     "metadata": {},
     "output_type": "execute_result"
    }
   ],
   "source": [
    "train_sizes"
   ]
  },
  {
   "cell_type": "code",
   "execution_count": 11,
   "metadata": {},
   "outputs": [
    {
     "data": {
      "text/plain": [
       "{('Baby & Child', 'Toddler Snacks'),\n",
       " ('Dairy & Eggs', 'Dough & Crust'),\n",
       " ('Fresh Food', 'Fresh Pizza'),\n",
       " ('Fresh Food', 'Wings'),\n",
       " ('Household', 'Dog Treats & Toys'),\n",
       " ('Household', 'Floral'),\n",
       " ('Household', 'Seasonal'),\n",
       " ('Meat & Fish', 'Lamb')}"
      ]
     },
     "execution_count": 11,
     "metadata": {},
     "output_type": "execute_result"
    }
   ],
   "source": [
    "test_categories = set(test_sizes.index.to_list())\n",
    "train_categories = set(train_sizes.index.to_list())\n",
    "\n",
    "test_categories - train_categories"
   ]
  },
  {
   "cell_type": "code",
   "execution_count": 12,
   "metadata": {},
   "outputs": [
    {
     "data": {
      "text/plain": [
       "{('Alcohol', 'Alcohol-Free'),\n",
       " ('Alcohol', 'Mixers'),\n",
       " ('Alcohol', 'Seltzer'),\n",
       " ('Baby', 'Baby Food'),\n",
       " ('Baby', 'Bath & Skin'),\n",
       " ('Baby', 'Diapers'),\n",
       " ('Baby', 'Feeding'),\n",
       " ('Baby', 'Formula'),\n",
       " ('Baby', 'Toys'),\n",
       " ('Baby', 'Wipes'),\n",
       " ('Bakery', 'Break & Bake'),\n",
       " ('Beauty', 'Bath & Body'),\n",
       " ('Beauty', 'Facial Care'),\n",
       " ('Beauty', 'Makeup'),\n",
       " ('Beauty', 'Nails'),\n",
       " ('Beauty', 'Skin Care'),\n",
       " ('Beauty', 'Sun Care'),\n",
       " ('Condiments', 'Dressing'),\n",
       " ('Condiments', 'Oil & Vinegar'),\n",
       " ('Condiments', 'Sauces'),\n",
       " ('Condiments', 'Spices & Seasoning'),\n",
       " ('Condiments', 'Syrups'),\n",
       " ('Drinks', 'Ice'),\n",
       " ('Fresh Food', 'Health'),\n",
       " ('Frozen', 'Poultry'),\n",
       " ('Frozen', 'Seafood'),\n",
       " ('Frozen', 'Sides'),\n",
       " ('Household', 'Automotive'),\n",
       " ('Household', 'Hand Soap'),\n",
       " ('Household', 'Linens & Bedding'),\n",
       " ('Household', 'Liquor'),\n",
       " ('Personal Care', 'Sun care'),\n",
       " ('Pet Care', 'Cat Toys & Treats'),\n",
       " ('Produce', 'Canned Specialty'),\n",
       " ('Snacks', 'Wings'),\n",
       " ('Vitamins', 'Aromatherapy'),\n",
       " ('Vitamins', 'Liquor'),\n",
       " ('Vitamins', 'Minerals')}"
      ]
     },
     "execution_count": 12,
     "metadata": {},
     "output_type": "execute_result"
    }
   ],
   "source": [
    "train_categories - test_categories"
   ]
  },
  {
   "cell_type": "code",
   "execution_count": 13,
   "metadata": {},
   "outputs": [
    {
     "data": {
      "text/plain": [
       "{('Alcohol', 'Alcohol-Free'),\n",
       " ('Alcohol', 'Mixers'),\n",
       " ('Alcohol', 'Seltzer'),\n",
       " ('Baby', 'Baby Food'),\n",
       " ('Baby', 'Bath & Skin'),\n",
       " ('Baby', 'Diapers'),\n",
       " ('Baby', 'Feeding'),\n",
       " ('Baby', 'Formula'),\n",
       " ('Baby', 'Toys'),\n",
       " ('Baby', 'Wipes'),\n",
       " ('Baby & Child', 'Toddler Snacks'),\n",
       " ('Bakery', 'Break & Bake'),\n",
       " ('Beauty', 'Bath & Body'),\n",
       " ('Beauty', 'Facial Care'),\n",
       " ('Beauty', 'Makeup'),\n",
       " ('Beauty', 'Nails'),\n",
       " ('Beauty', 'Skin Care'),\n",
       " ('Beauty', 'Sun Care'),\n",
       " ('Condiments', 'Dressing'),\n",
       " ('Condiments', 'Oil & Vinegar'),\n",
       " ('Condiments', 'Sauces'),\n",
       " ('Condiments', 'Spices & Seasoning'),\n",
       " ('Condiments', 'Syrups'),\n",
       " ('Dairy & Eggs', 'Dough & Crust'),\n",
       " ('Drinks', 'Ice'),\n",
       " ('Fresh Food', 'Fresh Pizza'),\n",
       " ('Fresh Food', 'Health'),\n",
       " ('Fresh Food', 'Wings'),\n",
       " ('Frozen', 'Poultry'),\n",
       " ('Frozen', 'Seafood'),\n",
       " ('Frozen', 'Sides'),\n",
       " ('Household', 'Automotive'),\n",
       " ('Household', 'Dog Treats & Toys'),\n",
       " ('Household', 'Floral'),\n",
       " ('Household', 'Hand Soap'),\n",
       " ('Household', 'Linens & Bedding'),\n",
       " ('Household', 'Liquor'),\n",
       " ('Household', 'Seasonal'),\n",
       " ('Meat & Fish', 'Lamb'),\n",
       " ('Personal Care', 'Sun care'),\n",
       " ('Pet Care', 'Cat Toys & Treats'),\n",
       " ('Produce', 'Canned Specialty'),\n",
       " ('Snacks', 'Wings'),\n",
       " ('Vitamins', 'Aromatherapy'),\n",
       " ('Vitamins', 'Liquor'),\n",
       " ('Vitamins', 'Minerals')}"
      ]
     },
     "execution_count": 13,
     "metadata": {},
     "output_type": "execute_result"
    }
   ],
   "source": [
    "trouble_categories = (test_categories - train_categories) | (train_categories - test_categories)\n",
    "trouble_categories"
   ]
  },
  {
   "cell_type": "code",
   "execution_count": 51,
   "metadata": {},
   "outputs": [],
   "source": [
    "import math\n",
    "\n",
    "def get_train_size(size):\n",
    "    if size == 1:\n",
    "        return 1\n",
    "    \n",
    "    train_size = math.ceil(0.9 * size)\n",
    "    \n",
    "    if train_size == size:\n",
    "        return train_size - 1\n",
    "    else:\n",
    "        return train_size"
   ]
  },
  {
   "cell_type": "code",
   "execution_count": 52,
   "metadata": {},
   "outputs": [
    {
     "data": {
      "text/html": [
       "<div>\n",
       "<style scoped>\n",
       "    .dataframe tbody tr th:only-of-type {\n",
       "        vertical-align: middle;\n",
       "    }\n",
       "\n",
       "    .dataframe tbody tr th {\n",
       "        vertical-align: top;\n",
       "    }\n",
       "\n",
       "    .dataframe thead th {\n",
       "        text-align: right;\n",
       "    }\n",
       "</style>\n",
       "<table border=\"1\" class=\"dataframe\">\n",
       "  <thead>\n",
       "    <tr style=\"text-align: right;\">\n",
       "      <th></th>\n",
       "      <th>item_name</th>\n",
       "      <th>l1</th>\n",
       "      <th>l2</th>\n",
       "      <th>photo</th>\n",
       "      <th>Business</th>\n",
       "      <th>category1_tag_id</th>\n",
       "      <th>category2_tag_id</th>\n",
       "      <th>Train</th>\n",
       "    </tr>\n",
       "  </thead>\n",
       "  <tbody>\n",
       "    <tr>\n",
       "      <th>0</th>\n",
       "      <td>Starbucks Flavored Liquid Coffee Pumpkin Spice...</td>\n",
       "      <td>Drinks</td>\n",
       "      <td>Coffee</td>\n",
       "      <td>http://cdn.doordash.com/media/photos/fb3fd14f-...</td>\n",
       "      <td>Circle K</td>\n",
       "      <td>NaN</td>\n",
       "      <td>NaN</td>\n",
       "      <td>False</td>\n",
       "    </tr>\n",
       "    <tr>\n",
       "      <th>1</th>\n",
       "      <td>Pure Leaf Liquid Herbal Tea Cherry Hibiscus No...</td>\n",
       "      <td>Drinks</td>\n",
       "      <td>Tea</td>\n",
       "      <td>http://cdn.doordash.com/media/photos/18896761-...</td>\n",
       "      <td>Circle K</td>\n",
       "      <td>NaN</td>\n",
       "      <td>NaN</td>\n",
       "      <td>False</td>\n",
       "    </tr>\n",
       "    <tr>\n",
       "      <th>2</th>\n",
       "      <td>Mtn Dew Code Red Soft Drink Citrus Cherry Bott...</td>\n",
       "      <td>Drinks</td>\n",
       "      <td>Soda</td>\n",
       "      <td>http://cdn.doordash.com/media/photos/f90aa531-...</td>\n",
       "      <td>Circle K</td>\n",
       "      <td>NaN</td>\n",
       "      <td>NaN</td>\n",
       "      <td>False</td>\n",
       "    </tr>\n",
       "    <tr>\n",
       "      <th>3</th>\n",
       "      <td>Anderson Valley Brewing Compny Ale The Kimmie,...</td>\n",
       "      <td>Alcohol</td>\n",
       "      <td>Beer</td>\n",
       "      <td>http://cdn.doordash.com/media/photos/17fc39a2-...</td>\n",
       "      <td>Circle K</td>\n",
       "      <td>NaN</td>\n",
       "      <td>NaN</td>\n",
       "      <td>False</td>\n",
       "    </tr>\n",
       "    <tr>\n",
       "      <th>4</th>\n",
       "      <td>Mtn Dew Citrus Zero Calorie Soft Drink 12 oz C...</td>\n",
       "      <td>Drinks</td>\n",
       "      <td>Soda</td>\n",
       "      <td>http://cdn.doordash.com/media/photos/0b70a92e-...</td>\n",
       "      <td>Circle K</td>\n",
       "      <td>NaN</td>\n",
       "      <td>NaN</td>\n",
       "      <td>False</td>\n",
       "    </tr>\n",
       "    <tr>\n",
       "      <th>...</th>\n",
       "      <td>...</td>\n",
       "      <td>...</td>\n",
       "      <td>...</td>\n",
       "      <td>...</td>\n",
       "      <td>...</td>\n",
       "      <td>...</td>\n",
       "      <td>...</td>\n",
       "      <td>...</td>\n",
       "    </tr>\n",
       "    <tr>\n",
       "      <th>99711</th>\n",
       "      <td>Chobani Pie Yogurt Key Lime Crumble (5.3 oz)</td>\n",
       "      <td>Dairy &amp; Eggs</td>\n",
       "      <td>Yogurt</td>\n",
       "      <td>http://cdn.doordash.com/media/photos/f942e709-...</td>\n",
       "      <td>Walgreens</td>\n",
       "      <td>960.0</td>\n",
       "      <td>1008.0</td>\n",
       "      <td>False</td>\n",
       "    </tr>\n",
       "    <tr>\n",
       "      <th>99712</th>\n",
       "      <td>Chobani Greek Yogurt Peach (6 oz)</td>\n",
       "      <td>Dairy &amp; Eggs</td>\n",
       "      <td>Yogurt</td>\n",
       "      <td>http://cdn.doordash.com/media/photos/246dcb0d-...</td>\n",
       "      <td>Walgreens</td>\n",
       "      <td>960.0</td>\n",
       "      <td>1008.0</td>\n",
       "      <td>False</td>\n",
       "    </tr>\n",
       "    <tr>\n",
       "      <th>99713</th>\n",
       "      <td>Yoplait Light Fat Free Yogurt Strawberries 'n ...</td>\n",
       "      <td>Dairy &amp; Eggs</td>\n",
       "      <td>Yogurt</td>\n",
       "      <td>http://cdn.doordash.com/media/photos/5ccb97f2-...</td>\n",
       "      <td>Walgreens</td>\n",
       "      <td>960.0</td>\n",
       "      <td>1008.0</td>\n",
       "      <td>False</td>\n",
       "    </tr>\n",
       "    <tr>\n",
       "      <th>99714</th>\n",
       "      <td>Fage Total 2% Lowfat Greek Strained Yogurt Hon...</td>\n",
       "      <td>Dairy &amp; Eggs</td>\n",
       "      <td>Yogurt</td>\n",
       "      <td>http://cdn.doordash.com/media/photos/c2fd4b5f-...</td>\n",
       "      <td>Walgreens</td>\n",
       "      <td>960.0</td>\n",
       "      <td>1008.0</td>\n",
       "      <td>False</td>\n",
       "    </tr>\n",
       "    <tr>\n",
       "      <th>99715</th>\n",
       "      <td>Chobani Greek Yogurt Strawberry (6 oz)</td>\n",
       "      <td>Dairy &amp; Eggs</td>\n",
       "      <td>Yogurt</td>\n",
       "      <td>http://cdn.doordash.com/media/photos/eb140f6a-...</td>\n",
       "      <td>Walgreens</td>\n",
       "      <td>960.0</td>\n",
       "      <td>1008.0</td>\n",
       "      <td>False</td>\n",
       "    </tr>\n",
       "  </tbody>\n",
       "</table>\n",
       "<p>99716 rows × 8 columns</p>\n",
       "</div>"
      ],
      "text/plain": [
       "                                               item_name            l1  \\\n",
       "0      Starbucks Flavored Liquid Coffee Pumpkin Spice...        Drinks   \n",
       "1      Pure Leaf Liquid Herbal Tea Cherry Hibiscus No...        Drinks   \n",
       "2      Mtn Dew Code Red Soft Drink Citrus Cherry Bott...        Drinks   \n",
       "3      Anderson Valley Brewing Compny Ale The Kimmie,...       Alcohol   \n",
       "4      Mtn Dew Citrus Zero Calorie Soft Drink 12 oz C...        Drinks   \n",
       "...                                                  ...           ...   \n",
       "99711       Chobani Pie Yogurt Key Lime Crumble (5.3 oz)  Dairy & Eggs   \n",
       "99712                  Chobani Greek Yogurt Peach (6 oz)  Dairy & Eggs   \n",
       "99713  Yoplait Light Fat Free Yogurt Strawberries 'n ...  Dairy & Eggs   \n",
       "99714  Fage Total 2% Lowfat Greek Strained Yogurt Hon...  Dairy & Eggs   \n",
       "99715             Chobani Greek Yogurt Strawberry (6 oz)  Dairy & Eggs   \n",
       "\n",
       "           l2                                              photo   Business  \\\n",
       "0      Coffee  http://cdn.doordash.com/media/photos/fb3fd14f-...   Circle K   \n",
       "1         Tea  http://cdn.doordash.com/media/photos/18896761-...   Circle K   \n",
       "2        Soda  http://cdn.doordash.com/media/photos/f90aa531-...   Circle K   \n",
       "3        Beer  http://cdn.doordash.com/media/photos/17fc39a2-...   Circle K   \n",
       "4        Soda  http://cdn.doordash.com/media/photos/0b70a92e-...   Circle K   \n",
       "...       ...                                                ...        ...   \n",
       "99711  Yogurt  http://cdn.doordash.com/media/photos/f942e709-...  Walgreens   \n",
       "99712  Yogurt  http://cdn.doordash.com/media/photos/246dcb0d-...  Walgreens   \n",
       "99713  Yogurt  http://cdn.doordash.com/media/photos/5ccb97f2-...  Walgreens   \n",
       "99714  Yogurt  http://cdn.doordash.com/media/photos/c2fd4b5f-...  Walgreens   \n",
       "99715  Yogurt  http://cdn.doordash.com/media/photos/eb140f6a-...  Walgreens   \n",
       "\n",
       "       category1_tag_id  category2_tag_id  Train  \n",
       "0                   NaN               NaN  False  \n",
       "1                   NaN               NaN  False  \n",
       "2                   NaN               NaN  False  \n",
       "3                   NaN               NaN  False  \n",
       "4                   NaN               NaN  False  \n",
       "...                 ...               ...    ...  \n",
       "99711             960.0            1008.0  False  \n",
       "99712             960.0            1008.0  False  \n",
       "99713             960.0            1008.0  False  \n",
       "99714             960.0            1008.0  False  \n",
       "99715             960.0            1008.0  False  \n",
       "\n",
       "[99716 rows x 8 columns]"
      ]
     },
     "execution_count": 52,
     "metadata": {},
     "output_type": "execute_result"
    }
   ],
   "source": [
    "df = df.assign(Train=False)\n",
    "df"
   ]
  },
  {
   "cell_type": "code",
   "execution_count": 53,
   "metadata": {
    "scrolled": true
   },
   "outputs": [],
   "source": [
    "for l1, l2 in trouble_categories:\n",
    "    category_mask = (df[\"l1\"] == l1) & (df[\"l2\"] == l2)\n",
    "    category_df = df[category_mask]\n",
    "    splits = np.split(category_df.sample(frac=1), [get_train_size(len(category_df))])\n",
    "    \n",
    "    train_index, test_index = splits[0].index, splits[1].index\n",
    "    \n",
    "    \n",
    "    df.loc[train_index, \"Train\"] = True\n",
    "    df.loc[test_index, \"Train\"] = False\n",
    "    "
   ]
  },
  {
   "cell_type": "code",
   "execution_count": 48,
   "metadata": {},
   "outputs": [
    {
     "data": {
      "text/plain": [
       "3875"
      ]
     },
     "execution_count": 48,
     "metadata": {},
     "output_type": "execute_result"
    }
   ],
   "source": [
    "sum(df[\"Train\"])"
   ]
  },
  {
   "cell_type": "code",
   "execution_count": 45,
   "metadata": {},
   "outputs": [
    {
     "data": {
      "text/plain": [
       "1"
      ]
     },
     "execution_count": 45,
     "metadata": {},
     "output_type": "execute_result"
    }
   ],
   "source": []
  },
  {
   "cell_type": "code",
   "execution_count": null,
   "metadata": {},
   "outputs": [],
   "source": []
  }
 ],
 "metadata": {
  "kernelspec": {
   "display_name": "Environment (conda_pytorch_p36)",
   "language": "python",
   "name": "conda_pytorch_p36"
  },
  "language_info": {
   "codemirror_mode": {
    "name": "ipython",
    "version": 3
   },
   "file_extension": ".py",
   "mimetype": "text/x-python",
   "name": "python",
   "nbconvert_exporter": "python",
   "pygments_lexer": "ipython3",
   "version": "3.6.10"
  }
 },
 "nbformat": 4,
 "nbformat_minor": 4
}
